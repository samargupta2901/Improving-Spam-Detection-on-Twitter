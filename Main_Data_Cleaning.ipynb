{
 "cells": [
  {
   "cell_type": "code",
   "execution_count": 1,
   "id": "42bf3e63",
   "metadata": {},
   "outputs": [],
   "source": [
    "import pickle\n",
    "import nltk\n",
    "import string\n",
    "import numpy as np\n",
    "import pandas as pd\n",
    "import regex as re\n",
    "import tensorflow as tf\n",
    "from nltk.corpus import stopwords, words\n",
    "from nltk.tokenize import word_tokenize,wordpunct_tokenize\n",
    "from nltk.stem.wordnet import WordNetLemmatizer\n",
    "from nltk.stem import PorterStemmer\n",
    "from keras.models import load_model\n",
    "from keras_preprocessing.sequence import pad_sequences\n",
    "import time\n",
    "\n",
    "pd.set_option('display.max_colwidth', 140)"
   ]
  },
  {
   "cell_type": "code",
   "execution_count": 2,
   "id": "25179acd",
   "metadata": {},
   "outputs": [
    {
     "name": "stderr",
     "output_type": "stream",
     "text": [
      "[nltk_data] Downloading package words to\n",
      "[nltk_data]     C:\\Users\\Samar\\AppData\\Roaming\\nltk_data...\n",
      "[nltk_data]   Package words is already up-to-date!\n"
     ]
    }
   ],
   "source": [
    "import nltk.corpus\n",
    "nltk.download('words')\n",
    "words = words.words()\n",
    "newWords = ['url','retweet','usermention','hashtag']\n",
    "words.extend(newWords)\n",
    "words = set(words)\n",
    "stop_words = set(stopwords.words(\"english\"))\n",
    "wn = WordNetLemmatizer()"
   ]
  },
  {
   "cell_type": "code",
   "execution_count": 3,
   "id": "b7a68d44",
   "metadata": {},
   "outputs": [
    {
     "name": "stdout",
     "output_type": "stream",
     "text": [
      "url : carri\n",
      "retweet : carri\n",
      "usermention : carri\n",
      "Time Taken:  0.0\n"
     ]
    }
   ],
   "source": [
    "ps =PorterStemmer()\n",
    "start1 = time.time()\n",
    "a = ps.stem(\"carries\")\n",
    "b = ps.stem(\"carried\")\n",
    "c = ps.stem(\"carrying\")\n",
    "end1 = time.time()\n",
    "print(\"url :\", a) \n",
    "print(\"retweet :\", b) \n",
    "print(\"usermention :\", c)\n",
    "print(\"Time Taken: \", end1-start1)"
   ]
  },
  {
   "cell_type": "code",
   "execution_count": 4,
   "id": "4c9d436d",
   "metadata": {},
   "outputs": [
    {
     "name": "stdout",
     "output_type": "stream",
     "text": [
      "url : carry\n",
      "retweet : carried\n",
      "usermention : carrying\n",
      "Time Taken:  4.754691123962402\n"
     ]
    }
   ],
   "source": [
    "start2 = time.time()\n",
    "d = wn.lemmatize(\"carries\")\n",
    "e = wn.lemmatize(\"carried\")\n",
    "f = wn.lemmatize(\"carrying\")\n",
    "end2 = time.time()\n",
    "print(\"url :\", d) \n",
    "print(\"retweet :\", e) \n",
    "print(\"usermention :\", f) \n",
    "print(\"Time Taken: \", end2-start2)"
   ]
  },
  {
   "cell_type": "code",
   "execution_count": 5,
   "id": "4ddcaa6b",
   "metadata": {},
   "outputs": [
    {
     "data": {
      "text/plain": [
       "True"
      ]
     },
     "execution_count": 5,
     "metadata": {},
     "output_type": "execute_result"
    }
   ],
   "source": [
    "\"hashtag\" in words"
   ]
  },
  {
   "cell_type": "code",
   "execution_count": 6,
   "id": "981bd629",
   "metadata": {},
   "outputs": [
    {
     "name": "stdout",
     "output_type": "stream",
     "text": [
      "url : url\n",
      "retweet : retweet\n",
      "usermention : usermention\n",
      "hashtag : hashtag\n"
     ]
    }
   ],
   "source": [
    "print(\"url :\", wn.lemmatize(\"url\", pos='v')) \n",
    "print(\"retweet :\", wn.lemmatize(\"retweet\", pos='v')) \n",
    "print(\"usermention :\", wn.lemmatize(\"usermention\", pos='v')) \n",
    "print(\"hashtag :\", wn.lemmatize(\"hashtag\", pos='v')) "
   ]
  },
  {
   "cell_type": "code",
   "execution_count": 7,
   "id": "163f1dc6",
   "metadata": {},
   "outputs": [],
   "source": [
    "ham_f1 = open(\"ham/ham1.txt\", errors = 'ignore')\n",
    "input_file1 = ham_f1.read()"
   ]
  },
  {
   "cell_type": "code",
   "execution_count": 8,
   "id": "fb9a7ff0",
   "metadata": {},
   "outputs": [],
   "source": [
    "ham_f2 = open(\"ham/ham2.txt\", errors = 'ignore')\n",
    "input_file2 = ham_f2.read()"
   ]
  },
  {
   "cell_type": "code",
   "execution_count": 9,
   "id": "0518dd1e",
   "metadata": {},
   "outputs": [],
   "source": [
    "ham_f3 = open(\"ham/ham3.txt\", errors = 'ignore')\n",
    "input_file3 = ham_f3.read()"
   ]
  },
  {
   "cell_type": "code",
   "execution_count": 10,
   "id": "f96cc5fd",
   "metadata": {},
   "outputs": [],
   "source": [
    "ham_f4 = open(\"ham/ham4.txt\", errors = 'ignore')\n",
    "input_file4 = ham_f4.read()"
   ]
  },
  {
   "cell_type": "code",
   "execution_count": 11,
   "id": "27148277",
   "metadata": {},
   "outputs": [],
   "source": [
    "ham_f5 = open(\"ham/ham5.txt\", errors = 'ignore')\n",
    "input_file5 = ham_f5.read()"
   ]
  },
  {
   "cell_type": "code",
   "execution_count": 12,
   "id": "a4d2defc",
   "metadata": {},
   "outputs": [],
   "source": [
    "ham_f6 = open(\"ham/ham6.txt\", errors = 'ignore')\n",
    "input_file6 = ham_f6.read()"
   ]
  },
  {
   "cell_type": "code",
   "execution_count": 13,
   "id": "f13eeb2a",
   "metadata": {},
   "outputs": [],
   "source": [
    "ham_f7 = open(\"ham/ham7.txt\", errors = 'ignore')\n",
    "input_file7 = ham_f7.read()"
   ]
  },
  {
   "cell_type": "code",
   "execution_count": 14,
   "id": "08d928fa",
   "metadata": {},
   "outputs": [],
   "source": [
    "spam_f1 = open(\"spam/spam1.txt\", errors = 'ignore')\n",
    "input_file8 = spam_f1.read()"
   ]
  },
  {
   "cell_type": "code",
   "execution_count": 15,
   "id": "beee03f9",
   "metadata": {},
   "outputs": [],
   "source": [
    "spam_f2 = open(\"spam/spam2.txt\", errors = 'ignore')\n",
    "input_file9 = spam_f2.read()"
   ]
  },
  {
   "cell_type": "code",
   "execution_count": 16,
   "id": "67c3f3fe",
   "metadata": {},
   "outputs": [],
   "source": [
    "spam_f3 = open(\"spam/spam3.txt\", errors = 'ignore')\n",
    "input_file10 = spam_f3.read()"
   ]
  },
  {
   "cell_type": "code",
   "execution_count": 17,
   "id": "cd530fc4",
   "metadata": {},
   "outputs": [],
   "source": [
    "spam_f4 = open(\"spam/spam4.txt\", errors = 'ignore')\n",
    "input_file11 = spam_f4.read()"
   ]
  },
  {
   "cell_type": "code",
   "execution_count": 18,
   "id": "0b520cd7",
   "metadata": {},
   "outputs": [],
   "source": [
    "spam_f5 = open(\"spam/spam5.txt\", errors = 'ignore')\n",
    "input_file12 = spam_f5.read()"
   ]
  },
  {
   "cell_type": "code",
   "execution_count": 19,
   "id": "0d96fafc",
   "metadata": {},
   "outputs": [],
   "source": [
    "def text_to_df(file):\n",
    "    parsedData = file.replace('\\t', '\\n').split('\\n')\n",
    "    textList = parsedData[2::4]\n",
    "    df = pd.DataFrame({'Text': textList})\n",
    "    return df"
   ]
  },
  {
   "cell_type": "code",
   "execution_count": 20,
   "id": "a39bc4a6",
   "metadata": {},
   "outputs": [
    {
     "data": {
      "text/html": [
       "<div>\n",
       "<style scoped>\n",
       "    .dataframe tbody tr th:only-of-type {\n",
       "        vertical-align: middle;\n",
       "    }\n",
       "\n",
       "    .dataframe tbody tr th {\n",
       "        vertical-align: top;\n",
       "    }\n",
       "\n",
       "    .dataframe thead th {\n",
       "        text-align: right;\n",
       "    }\n",
       "</style>\n",
       "<table border=\"1\" class=\"dataframe\">\n",
       "  <thead>\n",
       "    <tr style=\"text-align: right;\">\n",
       "      <th></th>\n",
       "      <th>Text</th>\n",
       "    </tr>\n",
       "  </thead>\n",
       "  <tbody>\n",
       "    <tr>\n",
       "      <th>0</th>\n",
       "      <td>â€¦ at house party in Daybreak. Not as weird as I'd feared. ;)</td>\n",
       "    </tr>\n",
       "    <tr>\n",
       "      <th>1</th>\n",
       "      <td>Taxiing  â€” at SLC Salt Lake City International http://gowal.la/s/b7V</td>\n",
       "    </tr>\n",
       "    <tr>\n",
       "      <th>2</th>\n",
       "      <td>Almost home! â€” at PDX Portland International  http://gowal.la/s/66X</td>\n",
       "    </tr>\n",
       "    <tr>\n",
       "      <th>3</th>\n",
       "      <td>Lunch!  â€” at Ten01 http://gowal.la/s/Awa</td>\n",
       "    </tr>\n",
       "    <tr>\n",
       "      <th>4</th>\n",
       "      <td>Mm â€¦ books â€” at @Powells http://gowal.la/s/6fe</td>\n",
       "    </tr>\n",
       "  </tbody>\n",
       "</table>\n",
       "</div>"
      ],
      "text/plain": [
       "                                                                     Text\n",
       "0          â€¦ at house party in Daybreak. Not as weird as I'd feared. ;)\n",
       "1  Taxiing  â€” at SLC Salt Lake City International http://gowal.la/s/b7V\n",
       "2   Almost home! â€” at PDX Portland International  http://gowal.la/s/66X\n",
       "3                              Lunch!  â€” at Ten01 http://gowal.la/s/Awa\n",
       "4                      Mm â€¦ books â€” at @Powells http://gowal.la/s/6fe"
      ]
     },
     "execution_count": 20,
     "metadata": {},
     "output_type": "execute_result"
    }
   ],
   "source": [
    "tweets_ham1 = text_to_df(input_file1)\n",
    "tweets_ham1.head()"
   ]
  },
  {
   "cell_type": "code",
   "execution_count": 21,
   "id": "f23caf04",
   "metadata": {},
   "outputs": [
    {
     "data": {
      "text/html": [
       "<div>\n",
       "<style scoped>\n",
       "    .dataframe tbody tr th:only-of-type {\n",
       "        vertical-align: middle;\n",
       "    }\n",
       "\n",
       "    .dataframe tbody tr th {\n",
       "        vertical-align: top;\n",
       "    }\n",
       "\n",
       "    .dataframe thead th {\n",
       "        text-align: right;\n",
       "    }\n",
       "</style>\n",
       "<table border=\"1\" class=\"dataframe\">\n",
       "  <thead>\n",
       "    <tr style=\"text-align: right;\">\n",
       "      <th></th>\n",
       "      <th>Text</th>\n",
       "    </tr>\n",
       "  </thead>\n",
       "  <tbody>\n",
       "    <tr>\n",
       "      <th>0</th>\n",
       "      <td>Woowooo Kentucky</td>\n",
       "    </tr>\n",
       "    <tr>\n",
       "      <th>1</th>\n",
       "      <td>Mom keeps talks about how complete shit New Moon was. Ahhh lovely.</td>\n",
       "    </tr>\n",
       "    <tr>\n",
       "      <th>2</th>\n",
       "      <td>#imthankfulfor my brother who I get to see today!!!!!!!!</td>\n",
       "    </tr>\n",
       "    <tr>\n",
       "      <th>3</th>\n",
       "      <td>Happy Thanksgiving!!! Macy's Parade! Watch for the Adair Co. Band !! That's my small ass town. Wooo go Kentucky.</td>\n",
       "    </tr>\n",
       "    <tr>\n",
       "      <th>4</th>\n",
       "      <td>@ad_ho didn't i say that</td>\n",
       "    </tr>\n",
       "  </tbody>\n",
       "</table>\n",
       "</div>"
      ],
      "text/plain": [
       "                                                                                                               Text\n",
       "0                                                                                                  Woowooo Kentucky\n",
       "1                                                Mom keeps talks about how complete shit New Moon was. Ahhh lovely.\n",
       "2                                                          #imthankfulfor my brother who I get to see today!!!!!!!!\n",
       "3  Happy Thanksgiving!!! Macy's Parade! Watch for the Adair Co. Band !! That's my small ass town. Wooo go Kentucky.\n",
       "4                                                                                          @ad_ho didn't i say that"
      ]
     },
     "execution_count": 21,
     "metadata": {},
     "output_type": "execute_result"
    }
   ],
   "source": [
    "tweets_ham2 = text_to_df(input_file2)\n",
    "tweets_ham2.head()"
   ]
  },
  {
   "cell_type": "code",
   "execution_count": 22,
   "id": "feea4c12",
   "metadata": {},
   "outputs": [
    {
     "data": {
      "text/html": [
       "<div>\n",
       "<style scoped>\n",
       "    .dataframe tbody tr th:only-of-type {\n",
       "        vertical-align: middle;\n",
       "    }\n",
       "\n",
       "    .dataframe tbody tr th {\n",
       "        vertical-align: top;\n",
       "    }\n",
       "\n",
       "    .dataframe thead th {\n",
       "        text-align: right;\n",
       "    }\n",
       "</style>\n",
       "<table border=\"1\" class=\"dataframe\">\n",
       "  <thead>\n",
       "    <tr style=\"text-align: right;\">\n",
       "      <th></th>\n",
       "      <th>Text</th>\n",
       "    </tr>\n",
       "  </thead>\n",
       "  <tbody>\n",
       "    <tr>\n",
       "      <th>0</th>\n",
       "      <td>my house has fleas! I'm itchy all over</td>\n",
       "    </tr>\n",
       "    <tr>\n",
       "      <th>1</th>\n",
       "      <td>http://twitpic.com/b9r6p -</td>\n",
       "    </tr>\n",
       "    <tr>\n",
       "      <th>2</th>\n",
       "      <td>a bit bored</td>\n",
       "    </tr>\n",
       "    <tr>\n",
       "      <th>3</th>\n",
       "      <td>thinking about reading HP 7 over the next week, forgot a lot of it</td>\n",
       "    </tr>\n",
       "    <tr>\n",
       "      <th>4</th>\n",
       "      <td>HP 6 was really good</td>\n",
       "    </tr>\n",
       "  </tbody>\n",
       "</table>\n",
       "</div>"
      ],
      "text/plain": [
       "                                                                 Text\n",
       "0                              my house has fleas! I'm itchy all over\n",
       "1                                          http://twitpic.com/b9r6p -\n",
       "2                                                         a bit bored\n",
       "3  thinking about reading HP 7 over the next week, forgot a lot of it\n",
       "4                                                HP 6 was really good"
      ]
     },
     "execution_count": 22,
     "metadata": {},
     "output_type": "execute_result"
    }
   ],
   "source": [
    "tweets_ham3 = text_to_df(input_file3)\n",
    "tweets_ham3.head()"
   ]
  },
  {
   "cell_type": "code",
   "execution_count": 23,
   "id": "c2476ccf",
   "metadata": {},
   "outputs": [
    {
     "data": {
      "text/html": [
       "<div>\n",
       "<style scoped>\n",
       "    .dataframe tbody tr th:only-of-type {\n",
       "        vertical-align: middle;\n",
       "    }\n",
       "\n",
       "    .dataframe tbody tr th {\n",
       "        vertical-align: top;\n",
       "    }\n",
       "\n",
       "    .dataframe thead th {\n",
       "        text-align: right;\n",
       "    }\n",
       "</style>\n",
       "<table border=\"1\" class=\"dataframe\">\n",
       "  <thead>\n",
       "    <tr style=\"text-align: right;\">\n",
       "      <th></th>\n",
       "      <th>Text</th>\n",
       "    </tr>\n",
       "  </thead>\n",
       "  <tbody>\n",
       "    <tr>\n",
       "      <th>0</th>\n",
       "      <td>@bevtales You're not supposed to legally cross Ortigas from Unimart to the bank side na, they constructed a footbridge in front of ibank!</td>\n",
       "    </tr>\n",
       "    <tr>\n",
       "      <th>1</th>\n",
       "      <td>@bevtales Haha! You did't use the pedestrian flyover thingie by Caltex no?</td>\n",
       "    </tr>\n",
       "    <tr>\n",
       "      <th>2</th>\n",
       "      <td>@francepinzon @denisedahlin @Meryllchavez  Whoaaa! Kelan 'to?</td>\n",
       "    </tr>\n",
       "    <tr>\n",
       "      <th>3</th>\n",
       "      <td>@katetorralba Guess which one... ? :p Who does it sound like?</td>\n",
       "    </tr>\n",
       "    <tr>\n",
       "      <th>4</th>\n",
       "      <td>@f_yao Came from HK. Internet withdrawal!</td>\n",
       "    </tr>\n",
       "  </tbody>\n",
       "</table>\n",
       "</div>"
      ],
      "text/plain": [
       "                                                                                                                                        Text\n",
       "0  @bevtales You're not supposed to legally cross Ortigas from Unimart to the bank side na, they constructed a footbridge in front of ibank!\n",
       "1                                                                 @bevtales Haha! You did't use the pedestrian flyover thingie by Caltex no?\n",
       "2                                                                              @francepinzon @denisedahlin @Meryllchavez  Whoaaa! Kelan 'to?\n",
       "3                                                                              @katetorralba Guess which one... ? :p Who does it sound like?\n",
       "4                                                                                                  @f_yao Came from HK. Internet withdrawal!"
      ]
     },
     "execution_count": 23,
     "metadata": {},
     "output_type": "execute_result"
    }
   ],
   "source": [
    "tweets_ham4 = text_to_df(input_file4)\n",
    "tweets_ham4.head()"
   ]
  },
  {
   "cell_type": "code",
   "execution_count": 24,
   "id": "bac9647b",
   "metadata": {},
   "outputs": [
    {
     "data": {
      "text/html": [
       "<div>\n",
       "<style scoped>\n",
       "    .dataframe tbody tr th:only-of-type {\n",
       "        vertical-align: middle;\n",
       "    }\n",
       "\n",
       "    .dataframe tbody tr th {\n",
       "        vertical-align: top;\n",
       "    }\n",
       "\n",
       "    .dataframe thead th {\n",
       "        text-align: right;\n",
       "    }\n",
       "</style>\n",
       "<table border=\"1\" class=\"dataframe\">\n",
       "  <thead>\n",
       "    <tr style=\"text-align: right;\">\n",
       "      <th></th>\n",
       "      <th>Text</th>\n",
       "    </tr>\n",
       "  </thead>\n",
       "  <tbody>\n",
       "    <tr>\n",
       "      <th>0</th>\n",
       "      <td>RT @dmbrown111: @Twithug @ELB55///TYVM A lister :):) @twithug back at ya//ppl like u make twitter worthwhile:)</td>\n",
       "    </tr>\n",
       "    <tr>\n",
       "      <th>1</th>\n",
       "      <td>it's such a disgarce this BHO is going on 74 days(?) , presented w/several plans/options, and still NO decision &amp;leaves country again!!#...</td>\n",
       "    </tr>\n",
       "    <tr>\n",
       "      <th>2</th>\n",
       "      <td>@logoscoaching @scm15010 @Celinna @flexingtwon @Chimi3 @dmbrown111 @ri4dc @sonchief @TalulahStarr  #FF</td>\n",
       "    </tr>\n",
       "    <tr>\n",
       "      <th>3</th>\n",
       "      <td>RT @leemayberry: #FollowFriday @ELB55///:)</td>\n",
       "    </tr>\n",
       "    <tr>\n",
       "      <th>4</th>\n",
       "      <td>RT @oxco: RT @ELB55 LOL, PC anyone??? \"There's this thing called being so open-minded your brains drop out.\"Richard Dawkins #tcot</td>\n",
       "    </tr>\n",
       "  </tbody>\n",
       "</table>\n",
       "</div>"
      ],
      "text/plain": [
       "                                                                                                                                          Text\n",
       "0                               RT @dmbrown111: @Twithug @ELB55///TYVM A lister :):) @twithug back at ya//ppl like u make twitter worthwhile:)\n",
       "1  it's such a disgarce this BHO is going on 74 days(?) , presented w/several plans/options, and still NO decision &leaves country again!!#...\n",
       "2                                       @logoscoaching @scm15010 @Celinna @flexingtwon @Chimi3 @dmbrown111 @ri4dc @sonchief @TalulahStarr  #FF\n",
       "3                                                                                                   RT @leemayberry: #FollowFriday @ELB55///:)\n",
       "4            RT @oxco: RT @ELB55 LOL, PC anyone??? \"There's this thing called being so open-minded your brains drop out.\"Richard Dawkins #tcot"
      ]
     },
     "execution_count": 24,
     "metadata": {},
     "output_type": "execute_result"
    }
   ],
   "source": [
    "tweets_ham5 = text_to_df(input_file5)\n",
    "tweets_ham5.head()"
   ]
  },
  {
   "cell_type": "code",
   "execution_count": 25,
   "id": "4cf46175",
   "metadata": {},
   "outputs": [
    {
     "data": {
      "text/html": [
       "<div>\n",
       "<style scoped>\n",
       "    .dataframe tbody tr th:only-of-type {\n",
       "        vertical-align: middle;\n",
       "    }\n",
       "\n",
       "    .dataframe tbody tr th {\n",
       "        vertical-align: top;\n",
       "    }\n",
       "\n",
       "    .dataframe thead th {\n",
       "        text-align: right;\n",
       "    }\n",
       "</style>\n",
       "<table border=\"1\" class=\"dataframe\">\n",
       "  <thead>\n",
       "    <tr style=\"text-align: right;\">\n",
       "      <th></th>\n",
       "      <th>Text</th>\n",
       "    </tr>\n",
       "  </thead>\n",
       "  <tbody>\n",
       "    <tr>\n",
       "      <th>0</th>\n",
       "      <td>2009-11-27 ä¸Šãƒ»ä¸­ç´šå…¬å‹™å“¡è©¦é¨“ éŽåŽ»å•ãƒ€ã‚¤ãƒ¬ã‚¯ãƒˆãƒŠãƒ“ æ€æƒ³,æ–‡å­¦ãƒ»èŠ¸è¡“[2011â€¦ è³‡æ ¼è©¦é¨“ç ”ç©¶ä¼š [å˜è¡Œæœ¬ï¼ˆã‚½ã...</td>\n",
       "    </tr>\n",
       "    <tr>\n",
       "      <th>1</th>\n",
       "      <td>2009-11-27 é‹¼æ®»ã®ãƒ¬ã‚®ã‚ªã‚¹ç¬¬9å·» (é€šå¸¸ç‰ˆ)[DVD] å²¡æœ¬ä¿¡å½¦/é«˜åž£â€¦ http://bit.ly/4pBA0k</td>\n",
       "    </tr>\n",
       "    <tr>\n",
       "      <th>2</th>\n",
       "      <td>2009-11-27 ã‚¹ã‚¤ãƒ¼ãƒ„ãƒ¢ãƒãƒ¼ãƒ•ã®ã‚«ãƒ«ãƒˆãƒŠãƒ¼ã‚¸ãƒ¥--ãƒ™ãƒ«ã‚®ãƒ¼ã‹ã‚‰å±Šã„ãŸæ‰‹ä½œã‚Šã®â€¦ ä½ä¼¯ çœŸç´€ [å¤§åž‹æœ¬] http://bit.ly...</td>\n",
       "    </tr>\n",
       "    <tr>\n",
       "      <th>3</th>\n",
       "      <td>2009-11-27 æœ¬å½“ã«ã‚ã£ãŸã¾ã‚‹ç”Ÿã‚®ãƒ§ãƒ¼ãƒ†ãƒ³å† å©šè‘¬ç¥­SP (ã¾ã‚“ãŒã‚¿ã‚¤ãƒ ãƒžã‚¤ãƒ‘ãƒ«â€¦ å®‰æ–Ž ã‹ãªãˆ [ã‚³ãƒŸãƒƒã‚¯] http://bit....</td>\n",
       "    </tr>\n",
       "    <tr>\n",
       "      <th>4</th>\n",
       "      <td>2009-11-27 è„³ã¨å¿ƒã®æ´—ã„æ–¹ è‹«ç±³åœ°è‹±äºº [æ–°æ›¸] http://bit.ly/3qQmXe</td>\n",
       "    </tr>\n",
       "  </tbody>\n",
       "</table>\n",
       "</div>"
      ],
      "text/plain": [
       "                                                                                                                                          Text\n",
       "0  2009-11-27 ä¸Šãƒ»ä¸­ç´šå…¬å‹™å“¡è©¦é¨“ éŽåŽ»å•ãƒ€ã‚¤ãƒ¬ã‚¯ãƒˆãƒŠãƒ“ æ€æƒ³,æ–‡å­¦ãƒ»èŠ¸è¡“[2011â€¦ è³‡æ ¼è©¦é¨“ç ”ç©¶ä¼š [å˜è¡Œæœ¬ï¼ˆã‚½ã...\n",
       "1                                          2009-11-27 é‹¼æ®»ã®ãƒ¬ã‚®ã‚ªã‚¹ç¬¬9å·» (é€šå¸¸ç‰ˆ)[DVD] å²¡æœ¬ä¿¡å½¦/é«˜åž£â€¦ http://bit.ly/4pBA0k\n",
       "2  2009-11-27 ã‚¹ã‚¤ãƒ¼ãƒ„ãƒ¢ãƒãƒ¼ãƒ•ã®ã‚«ãƒ«ãƒˆãƒŠãƒ¼ã‚¸ãƒ¥--ãƒ™ãƒ«ã‚®ãƒ¼ã‹ã‚‰å±Šã„ãŸæ‰‹ä½œã‚Šã®â€¦ ä½ä¼¯ çœŸç´€ [å¤§åž‹æœ¬] http://bit.ly...\n",
       "3  2009-11-27 æœ¬å½“ã«ã‚ã£ãŸã¾ã‚‹ç”Ÿã‚®ãƒ§ãƒ¼ãƒ†ãƒ³å† å©šè‘¬ç¥­SP (ã¾ã‚“ãŒã‚¿ã‚¤ãƒ ãƒžã‚¤ãƒ‘ãƒ«â€¦ å®‰æ–Ž ã‹ãªãˆ [ã‚³ãƒŸãƒƒã‚¯] http://bit....\n",
       "4                                                                  2009-11-27 è„³ã¨å¿ƒã®æ´—ã„æ–¹ è‹«ç±³åœ°è‹±äºº [æ–°æ›¸] http://bit.ly/3qQmXe"
      ]
     },
     "execution_count": 25,
     "metadata": {},
     "output_type": "execute_result"
    }
   ],
   "source": [
    "tweets_ham6 = text_to_df(input_file6)\n",
    "tweets_ham6.head()"
   ]
  },
  {
   "cell_type": "code",
   "execution_count": 26,
   "id": "8c435eb4",
   "metadata": {},
   "outputs": [
    {
     "data": {
      "text/html": [
       "<div>\n",
       "<style scoped>\n",
       "    .dataframe tbody tr th:only-of-type {\n",
       "        vertical-align: middle;\n",
       "    }\n",
       "\n",
       "    .dataframe tbody tr th {\n",
       "        vertical-align: top;\n",
       "    }\n",
       "\n",
       "    .dataframe thead th {\n",
       "        text-align: right;\n",
       "    }\n",
       "</style>\n",
       "<table border=\"1\" class=\"dataframe\">\n",
       "  <thead>\n",
       "    <tr style=\"text-align: right;\">\n",
       "      <th></th>\n",
       "      <th>Text</th>\n",
       "    </tr>\n",
       "  </thead>\n",
       "  <tbody>\n",
       "    <tr>\n",
       "      <th>0</th>\n",
       "      <td>@FeehAndrade quem te falo que eu chorei?! e nao to falando de hist. e sim de port.</td>\n",
       "    </tr>\n",
       "    <tr>\n",
       "      <th>1</th>\n",
       "      <td>@chillibeans http://twitpic.com/pvvse - Lindo *-*</td>\n",
       "    </tr>\n",
       "    <tr>\n",
       "      <th>2</th>\n",
       "      <td>Triste demais pra twittar, so vim dar um oi ...oi &lt;: )</td>\n",
       "    </tr>\n",
       "    <tr>\n",
       "      <th>3</th>\n",
       "      <td>Nossa me enpolguei cantando ''No veneno'' ai a internet caiu... -.- -_-</td>\n",
       "    </tr>\n",
       "    <tr>\n",
       "      <th>4</th>\n",
       "      <td>@mikamasen OMG! eu sei! ta tuudo super esquisito !!</td>\n",
       "    </tr>\n",
       "  </tbody>\n",
       "</table>\n",
       "</div>"
      ],
      "text/plain": [
       "                                                                                 Text\n",
       "0  @FeehAndrade quem te falo que eu chorei?! e nao to falando de hist. e sim de port.\n",
       "1                                   @chillibeans http://twitpic.com/pvvse - Lindo *-*\n",
       "2                              Triste demais pra twittar, so vim dar um oi ...oi <: )\n",
       "3             Nossa me enpolguei cantando ''No veneno'' ai a internet caiu... -.- -_-\n",
       "4                                 @mikamasen OMG! eu sei! ta tuudo super esquisito !!"
      ]
     },
     "execution_count": 26,
     "metadata": {},
     "output_type": "execute_result"
    }
   ],
   "source": [
    "tweets_ham7 = text_to_df(input_file7)\n",
    "tweets_ham7.head()"
   ]
  },
  {
   "cell_type": "code",
   "execution_count": 27,
   "id": "f79aca23",
   "metadata": {},
   "outputs": [
    {
     "data": {
      "text/html": [
       "<div>\n",
       "<style scoped>\n",
       "    .dataframe tbody tr th:only-of-type {\n",
       "        vertical-align: middle;\n",
       "    }\n",
       "\n",
       "    .dataframe tbody tr th {\n",
       "        vertical-align: top;\n",
       "    }\n",
       "\n",
       "    .dataframe thead th {\n",
       "        text-align: right;\n",
       "    }\n",
       "</style>\n",
       "<table border=\"1\" class=\"dataframe\">\n",
       "  <thead>\n",
       "    <tr style=\"text-align: right;\">\n",
       "      <th></th>\n",
       "      <th>Text</th>\n",
       "    </tr>\n",
       "  </thead>\n",
       "  <tbody>\n",
       "    <tr>\n",
       "      <th>count</th>\n",
       "      <td>500000</td>\n",
       "    </tr>\n",
       "    <tr>\n",
       "      <th>unique</th>\n",
       "      <td>495245</td>\n",
       "    </tr>\n",
       "    <tr>\n",
       "      <th>top</th>\n",
       "      <td>@tarot3</td>\n",
       "    </tr>\n",
       "    <tr>\n",
       "      <th>freq</th>\n",
       "      <td>47</td>\n",
       "    </tr>\n",
       "  </tbody>\n",
       "</table>\n",
       "</div>"
      ],
      "text/plain": [
       "           Text\n",
       "count    500000\n",
       "unique   495245\n",
       "top     @tarot3\n",
       "freq         47"
      ]
     },
     "execution_count": 27,
     "metadata": {},
     "output_type": "execute_result"
    }
   ],
   "source": [
    "tweets_ham1.describe()"
   ]
  },
  {
   "cell_type": "code",
   "execution_count": 28,
   "id": "27c49d28",
   "metadata": {},
   "outputs": [
    {
     "data": {
      "text/html": [
       "<div>\n",
       "<style scoped>\n",
       "    .dataframe tbody tr th:only-of-type {\n",
       "        vertical-align: middle;\n",
       "    }\n",
       "\n",
       "    .dataframe tbody tr th {\n",
       "        vertical-align: top;\n",
       "    }\n",
       "\n",
       "    .dataframe thead th {\n",
       "        text-align: right;\n",
       "    }\n",
       "</style>\n",
       "<table border=\"1\" class=\"dataframe\">\n",
       "  <thead>\n",
       "    <tr style=\"text-align: right;\">\n",
       "      <th></th>\n",
       "      <th>Text</th>\n",
       "    </tr>\n",
       "  </thead>\n",
       "  <tbody>\n",
       "    <tr>\n",
       "      <th>0</th>\n",
       "      <td>MELBOURNE ENQUIRY: Seeking a variety of acts for our end of year show. Payment is $120 per slot or $200 for 2.... http://bit.ly/4Ah3fF</td>\n",
       "    </tr>\n",
       "    <tr>\n",
       "      <th>1</th>\n",
       "      <td>THE BURLESQUE BOOTCAMP SYDNEY - Open Date tickets now available from http://bbootcampsyd.eventbrite.com/ for Jan /... http://bit.ly/rCenZ</td>\n",
       "    </tr>\n",
       "    <tr>\n",
       "      <th>2</th>\n",
       "      <td>THE BURLESQUE BOOTCAMP SYDNEY - Open Date tickets now available from http://bbootcampsyd.eventbrite.com/ for Jan /... http://bit.ly/1v5hvb</td>\n",
       "    </tr>\n",
       "    <tr>\n",
       "      <th>3</th>\n",
       "      <td>THE BURLESQUE BOOTCAMP SYDNEY - Open Date tickets now available from http://bbootcampsyd.eventbrite.com/ for Jan /... http://fb.me/3rzipF0</td>\n",
       "    </tr>\n",
       "    <tr>\n",
       "      <th>4</th>\n",
       "      <td>Come to \"The Burlesque Bootcamp - Sydney\" Saturday, 23 January 2010 at 10:00 until &lt;br /&gt;Sunday, 24 January 2010 at... http://bit.ly/38simD</td>\n",
       "    </tr>\n",
       "  </tbody>\n",
       "</table>\n",
       "</div>"
      ],
      "text/plain": [
       "                                                                                                                                          Text\n",
       "0       MELBOURNE ENQUIRY: Seeking a variety of acts for our end of year show. Payment is $120 per slot or $200 for 2.... http://bit.ly/4Ah3fF\n",
       "1    THE BURLESQUE BOOTCAMP SYDNEY - Open Date tickets now available from http://bbootcampsyd.eventbrite.com/ for Jan /... http://bit.ly/rCenZ\n",
       "2   THE BURLESQUE BOOTCAMP SYDNEY - Open Date tickets now available from http://bbootcampsyd.eventbrite.com/ for Jan /... http://bit.ly/1v5hvb\n",
       "3   THE BURLESQUE BOOTCAMP SYDNEY - Open Date tickets now available from http://bbootcampsyd.eventbrite.com/ for Jan /... http://fb.me/3rzipF0\n",
       "4  Come to \"The Burlesque Bootcamp - Sydney\" Saturday, 23 January 2010 at 10:00 until <br />Sunday, 24 January 2010 at... http://bit.ly/38simD"
      ]
     },
     "execution_count": 28,
     "metadata": {},
     "output_type": "execute_result"
    }
   ],
   "source": [
    "tweets_spam1 = text_to_df(input_file8)\n",
    "tweets_spam1.head()"
   ]
  },
  {
   "cell_type": "code",
   "execution_count": 29,
   "id": "d1dc08d9",
   "metadata": {},
   "outputs": [
    {
     "data": {
      "text/html": [
       "<div>\n",
       "<style scoped>\n",
       "    .dataframe tbody tr th:only-of-type {\n",
       "        vertical-align: middle;\n",
       "    }\n",
       "\n",
       "    .dataframe tbody tr th {\n",
       "        vertical-align: top;\n",
       "    }\n",
       "\n",
       "    .dataframe thead th {\n",
       "        text-align: right;\n",
       "    }\n",
       "</style>\n",
       "<table border=\"1\" class=\"dataframe\">\n",
       "  <thead>\n",
       "    <tr style=\"text-align: right;\">\n",
       "      <th></th>\n",
       "      <th>Text</th>\n",
       "    </tr>\n",
       "  </thead>\n",
       "  <tbody>\n",
       "    <tr>\n",
       "      <th>0</th>\n",
       "      <td>Am I not following you?  Should I be?  Reply to @JewTubeDotCom and I will follow.</td>\n",
       "    </tr>\n",
       "    <tr>\n",
       "      <th>1</th>\n",
       "      <td>@RBMORD Thank you!  I'm following.</td>\n",
       "    </tr>\n",
       "    <tr>\n",
       "      <th>2</th>\n",
       "      <td>@markjoyner Thanks for the follow.  Just re-read (err...listened on Audible) \"Simpleology\". Happy Friday!</td>\n",
       "    </tr>\n",
       "    <tr>\n",
       "      <th>3</th>\n",
       "      <td>Good Shabbos</td>\n",
       "    </tr>\n",
       "    <tr>\n",
       "      <th>4</th>\n",
       "      <td>rt @RabbiYonah Be yourself. Be Jewlicious. Feb 19-21 - tickets selling fast. http://jewliciousfestival.com/</td>\n",
       "    </tr>\n",
       "  </tbody>\n",
       "</table>\n",
       "</div>"
      ],
      "text/plain": [
       "                                                                                                          Text\n",
       "0                            Am I not following you?  Should I be?  Reply to @JewTubeDotCom and I will follow.\n",
       "1                                                                           @RBMORD Thank you!  I'm following.\n",
       "2    @markjoyner Thanks for the follow.  Just re-read (err...listened on Audible) \"Simpleology\". Happy Friday!\n",
       "3                                                                                                 Good Shabbos\n",
       "4  rt @RabbiYonah Be yourself. Be Jewlicious. Feb 19-21 - tickets selling fast. http://jewliciousfestival.com/"
      ]
     },
     "execution_count": 29,
     "metadata": {},
     "output_type": "execute_result"
    }
   ],
   "source": [
    "tweets_spam2 = text_to_df(input_file9)\n",
    "tweets_spam2.head()"
   ]
  },
  {
   "cell_type": "code",
   "execution_count": 30,
   "id": "b9cfddf0",
   "metadata": {},
   "outputs": [
    {
     "data": {
      "text/html": [
       "<div>\n",
       "<style scoped>\n",
       "    .dataframe tbody tr th:only-of-type {\n",
       "        vertical-align: middle;\n",
       "    }\n",
       "\n",
       "    .dataframe tbody tr th {\n",
       "        vertical-align: top;\n",
       "    }\n",
       "\n",
       "    .dataframe thead th {\n",
       "        text-align: right;\n",
       "    }\n",
       "</style>\n",
       "<table border=\"1\" class=\"dataframe\">\n",
       "  <thead>\n",
       "    <tr style=\"text-align: right;\">\n",
       "      <th></th>\n",
       "      <th>Text</th>\n",
       "    </tr>\n",
       "  </thead>\n",
       "  <tbody>\n",
       "    <tr>\n",
       "      <th>0</th>\n",
       "      <td>Do You Have The Tools To Succeed Online? Visit http://www.homebizinstitute.com/launchblog/  One Place One Purpose</td>\n",
       "    </tr>\n",
       "    <tr>\n",
       "      <th>1</th>\n",
       "      <td>We're almost done... get ready for the one stop destination you've been waiting for... visit http://www.homebizinstitute.com/launchblog/</td>\n",
       "    </tr>\n",
       "    <tr>\n",
       "      <th>2</th>\n",
       "      <td>New Bloganize Post: Yes, Most Facebook Users Are White http://bloganize.com/internet-traffic/yes-most-facebook-users-are-white/</td>\n",
       "    </tr>\n",
       "    <tr>\n",
       "      <th>3</th>\n",
       "      <td>New Bloganize Post: Recropical Link Cloaking â€“ What you Need to Know http://bit.ly/7Ty81p</td>\n",
       "    </tr>\n",
       "    <tr>\n",
       "      <th>4</th>\n",
       "      <td>Are you sick of all the online marketing hype? A new way is coming... Learn &amp; Earn at the http://www.homebizinstitute.com/launchblog/</td>\n",
       "    </tr>\n",
       "  </tbody>\n",
       "</table>\n",
       "</div>"
      ],
      "text/plain": [
       "                                                                                                                                       Text\n",
       "0                         Do You Have The Tools To Succeed Online? Visit http://www.homebizinstitute.com/launchblog/  One Place One Purpose\n",
       "1  We're almost done... get ready for the one stop destination you've been waiting for... visit http://www.homebizinstitute.com/launchblog/\n",
       "2           New Bloganize Post: Yes, Most Facebook Users Are White http://bloganize.com/internet-traffic/yes-most-facebook-users-are-white/\n",
       "3                                               New Bloganize Post: Recropical Link Cloaking â€“ What you Need to Know http://bit.ly/7Ty81p\n",
       "4     Are you sick of all the online marketing hype? A new way is coming... Learn & Earn at the http://www.homebizinstitute.com/launchblog/"
      ]
     },
     "execution_count": 30,
     "metadata": {},
     "output_type": "execute_result"
    }
   ],
   "source": [
    "tweets_spam3 = text_to_df(input_file10)\n",
    "tweets_spam3.head()"
   ]
  },
  {
   "cell_type": "code",
   "execution_count": 31,
   "id": "180a2805",
   "metadata": {},
   "outputs": [
    {
     "data": {
      "text/html": [
       "<div>\n",
       "<style scoped>\n",
       "    .dataframe tbody tr th:only-of-type {\n",
       "        vertical-align: middle;\n",
       "    }\n",
       "\n",
       "    .dataframe tbody tr th {\n",
       "        vertical-align: top;\n",
       "    }\n",
       "\n",
       "    .dataframe thead th {\n",
       "        text-align: right;\n",
       "    }\n",
       "</style>\n",
       "<table border=\"1\" class=\"dataframe\">\n",
       "  <thead>\n",
       "    <tr style=\"text-align: right;\">\n",
       "      <th></th>\n",
       "      <th>Text</th>\n",
       "    </tr>\n",
       "  </thead>\n",
       "  <tbody>\n",
       "    <tr>\n",
       "      <th>0</th>\n",
       "      <td>France travel information and travel guide.http://bit.ly/4UuEz4</td>\n",
       "    </tr>\n",
       "    <tr>\n",
       "      <th>1</th>\n",
       "      <td>Search hundreds of travel sites, compare results..http://bit.ly/4UuEz4</td>\n",
       "    </tr>\n",
       "    <tr>\n",
       "      <th>2</th>\n",
       "      <td>100 travel websites for your information.http://bit.ly/4UuEz4</td>\n",
       "    </tr>\n",
       "    <tr>\n",
       "      <th>3</th>\n",
       "      <td>Cheap travel insurance package.http://bit.ly/4UuEz4</td>\n",
       "    </tr>\n",
       "    <tr>\n",
       "      <th>4</th>\n",
       "      <td>Reviews of vacations, hotels, resorts, vacation and travel ...</td>\n",
       "    </tr>\n",
       "  </tbody>\n",
       "</table>\n",
       "</div>"
      ],
      "text/plain": [
       "                                                                     Text\n",
       "0         France travel information and travel guide.http://bit.ly/4UuEz4\n",
       "1  Search hundreds of travel sites, compare results..http://bit.ly/4UuEz4\n",
       "2           100 travel websites for your information.http://bit.ly/4UuEz4\n",
       "3                     Cheap travel insurance package.http://bit.ly/4UuEz4\n",
       "4          Reviews of vacations, hotels, resorts, vacation and travel ..."
      ]
     },
     "execution_count": 31,
     "metadata": {},
     "output_type": "execute_result"
    }
   ],
   "source": [
    "tweets_spam4 = text_to_df(input_file11)\n",
    "tweets_spam4.head()"
   ]
  },
  {
   "cell_type": "code",
   "execution_count": 32,
   "id": "58374ff5",
   "metadata": {},
   "outputs": [
    {
     "data": {
      "text/html": [
       "<div>\n",
       "<style scoped>\n",
       "    .dataframe tbody tr th:only-of-type {\n",
       "        vertical-align: middle;\n",
       "    }\n",
       "\n",
       "    .dataframe tbody tr th {\n",
       "        vertical-align: top;\n",
       "    }\n",
       "\n",
       "    .dataframe thead th {\n",
       "        text-align: right;\n",
       "    }\n",
       "</style>\n",
       "<table border=\"1\" class=\"dataframe\">\n",
       "  <thead>\n",
       "    <tr style=\"text-align: right;\">\n",
       "      <th></th>\n",
       "      <th>Text</th>\n",
       "    </tr>\n",
       "  </thead>\n",
       "  <tbody>\n",
       "    <tr>\n",
       "      <th>0</th>\n",
       "      <td>Additional Income Stream.  www.worldwidetrend.net</td>\n",
       "    </tr>\n",
       "    <tr>\n",
       "      <th>1</th>\n",
       "      <td>80% of Business comes from Outside the U.S. in Network Marketing.  www.WorldWideTrend.Net</td>\n",
       "    </tr>\n",
       "    <tr>\n",
       "      <th>2</th>\n",
       "      <td>Canada We Are Coming!  www.worldwidetrend.net</td>\n",
       "    </tr>\n",
       "    <tr>\n",
       "      <th>3</th>\n",
       "      <td>World Wide \"Brand\" ICON  www.worldwidetrend.net</td>\n",
       "    </tr>\n",
       "    <tr>\n",
       "      <th>4</th>\n",
       "      <td>Marketing is Fun . . . \"Trump Network Wants You\": http://animoto.com/s/Zh1xVH8p8HrsDvVpaPwVyg</td>\n",
       "    </tr>\n",
       "  </tbody>\n",
       "</table>\n",
       "</div>"
      ],
      "text/plain": [
       "                                                                                            Text\n",
       "0                                              Additional Income Stream.  www.worldwidetrend.net\n",
       "1      80% of Business comes from Outside the U.S. in Network Marketing.  www.WorldWideTrend.Net\n",
       "2                                                  Canada We Are Coming!  www.worldwidetrend.net\n",
       "3                                                World Wide \"Brand\" ICON  www.worldwidetrend.net\n",
       "4  Marketing is Fun . . . \"Trump Network Wants You\": http://animoto.com/s/Zh1xVH8p8HrsDvVpaPwVyg"
      ]
     },
     "execution_count": 32,
     "metadata": {},
     "output_type": "execute_result"
    }
   ],
   "source": [
    "tweets_spam5 = text_to_df(input_file12)\n",
    "tweets_spam5.head()"
   ]
  },
  {
   "cell_type": "code",
   "execution_count": 33,
   "id": "049170d0",
   "metadata": {},
   "outputs": [
    {
     "data": {
      "text/html": [
       "<div>\n",
       "<style scoped>\n",
       "    .dataframe tbody tr th:only-of-type {\n",
       "        vertical-align: middle;\n",
       "    }\n",
       "\n",
       "    .dataframe tbody tr th {\n",
       "        vertical-align: top;\n",
       "    }\n",
       "\n",
       "    .dataframe thead th {\n",
       "        text-align: right;\n",
       "    }\n",
       "</style>\n",
       "<table border=\"1\" class=\"dataframe\">\n",
       "  <thead>\n",
       "    <tr style=\"text-align: right;\">\n",
       "      <th></th>\n",
       "      <th>Text</th>\n",
       "    </tr>\n",
       "  </thead>\n",
       "  <tbody>\n",
       "    <tr>\n",
       "      <th>count</th>\n",
       "      <td>499999</td>\n",
       "    </tr>\n",
       "    <tr>\n",
       "      <th>unique</th>\n",
       "      <td>455651</td>\n",
       "    </tr>\n",
       "    <tr>\n",
       "      <th>top</th>\n",
       "      <td>Get thousand of followers for FREE! VIP are getting over 1,000 per day!! http://tinyurl.com/lxx4su</td>\n",
       "    </tr>\n",
       "    <tr>\n",
       "      <th>freq</th>\n",
       "      <td>105</td>\n",
       "    </tr>\n",
       "  </tbody>\n",
       "</table>\n",
       "</div>"
      ],
      "text/plain": [
       "                                                                                                      Text\n",
       "count                                                                                               499999\n",
       "unique                                                                                              455651\n",
       "top     Get thousand of followers for FREE! VIP are getting over 1,000 per day!! http://tinyurl.com/lxx4su\n",
       "freq                                                                                                   105"
      ]
     },
     "execution_count": 33,
     "metadata": {},
     "output_type": "execute_result"
    }
   ],
   "source": [
    "tweets_spam1.describe()"
   ]
  },
  {
   "cell_type": "code",
   "execution_count": 36,
   "id": "2469aecc",
   "metadata": {},
   "outputs": [],
   "source": [
    "def clean_data(trial_text):\n",
    "    for i in trial_text.index:\n",
    "        trial_text.at[i,\"Text\"] = re.sub(r\"http\\S+\", \"url\", trial_text.at[i,\"Text\"])\n",
    "        trial_text.at[i,\"Text\"] = re.sub(r\"@\\S+\", \"usermention\", trial_text.at[i,\"Text\"])\n",
    "    trial_text.drop_duplicates(subset='Text', keep='first', inplace=True)\n",
    "    for i in trial_text.index:\n",
    "        trial_text.at[i,\"Text\"] = re.sub(r\"#\", \"\", trial_text.at[i,\"Text\"])\n",
    "        trial_text.at[i,\"Text\"] = re.sub(r\"\\bRT\\b\", \"retweet\", trial_text.at[i,\"Text\"])\n",
    "        trial_text.at[i,\"Text\"] = ' '.join(word for word in wordpunct_tokenize(trial_text.at[i,\"Text\"]) \n",
    "                                           if word.lower() not in stop_words)\n",
    "        trial_text.at[i,\"Text\"] = ' '.join(word.strip(string.punctuation) for word in trial_text.at[i,\"Text\"].split())\n",
    "        trial_text.at[i,\"Text\"] = wordpunct_tokenize(trial_text.at[i,\"Text\"].lower())\n",
    "        trial_text.at[i,\"Text\"] = ' '.join([wn.lemmatize(word, pos='v') for word in trial_text.at[i,\"Text\"]])\n",
    "        trial_text.at[i,\"Text\"] = ' '.join(word for word in word_tokenize(trial_text.at[i,\"Text\"]) if word in words)\n",
    "        trial_text.at[i,\"Text\"] = \" \".join(word for word in word_tokenize(trial_text.at[i,\"Text\"]) \n",
    "                                           if not (word.isalpha() and len(word)<3))\n",
    "    \n",
    "    #Additional loop for processing glove dataset\n",
    "    for i in trial_text.index:\n",
    "        trial_text.at[i,\"Text\"] = re.sub(r\"\\burl\\b\", \"<url>\", trial_text.at[i,\"Text\"])\n",
    "        trial_text.at[i,\"Text\"] = re.sub(r\"\\busermention\\b\", \"<user>\", trial_text.at[i,\"Text\"]) \n",
    "        trial_text.at[i,\"Text\"] = re.sub(r\"\\bhashtag\\b\", \"<hashtag>\", trial_text.at[i,\"Text\"])\n",
    "        trial_text.at[i,\"Text\"] = re.sub(r\"\\bretweet\\b\", \"rt\", trial_text.at[i,\"Text\"])\n",
    "    trial_text['num_words']=trial_text[\"Text\"].str.split().str.len()\n",
    "    trial_text = trial_text.drop(trial_text[trial_text.num_words < 2].index)\n",
    "    trial_text = trial_text.drop(['num_words'], axis=1)\n",
    "    return trial_text"
   ]
  },
  {
   "cell_type": "code",
   "execution_count": 37,
   "id": "2e704a68",
   "metadata": {},
   "outputs": [
    {
     "name": "stdout",
     "output_type": "stream",
     "text": [
      "Time Taken:  489.28662943840027\n"
     ]
    },
    {
     "data": {
      "text/html": [
       "<div>\n",
       "<style scoped>\n",
       "    .dataframe tbody tr th:only-of-type {\n",
       "        vertical-align: middle;\n",
       "    }\n",
       "\n",
       "    .dataframe tbody tr th {\n",
       "        vertical-align: top;\n",
       "    }\n",
       "\n",
       "    .dataframe thead th {\n",
       "        text-align: right;\n",
       "    }\n",
       "</style>\n",
       "<table border=\"1\" class=\"dataframe\">\n",
       "  <thead>\n",
       "    <tr style=\"text-align: right;\">\n",
       "      <th></th>\n",
       "      <th>Text</th>\n",
       "    </tr>\n",
       "  </thead>\n",
       "  <tbody>\n",
       "    <tr>\n",
       "      <th>count</th>\n",
       "      <td>357182</td>\n",
       "    </tr>\n",
       "    <tr>\n",
       "      <th>unique</th>\n",
       "      <td>310091</td>\n",
       "    </tr>\n",
       "    <tr>\n",
       "      <th>top</th>\n",
       "      <td>rt &lt;user&gt;</td>\n",
       "    </tr>\n",
       "    <tr>\n",
       "      <th>freq</th>\n",
       "      <td>2859</td>\n",
       "    </tr>\n",
       "  </tbody>\n",
       "</table>\n",
       "</div>"
      ],
      "text/plain": [
       "             Text\n",
       "count      357182\n",
       "unique     310091\n",
       "top     rt <user>\n",
       "freq         2859"
      ]
     },
     "execution_count": 37,
     "metadata": {},
     "output_type": "execute_result"
    }
   ],
   "source": [
    "start2 = time.time()\n",
    "clean_ham_df1 = clean_data(tweets_ham1)\n",
    "clean_ham_df1.head()\n",
    "end2 = time.time()\n",
    "print(\"Time Taken: \", end2-start2)\n",
    "clean_ham_df1.describe()"
   ]
  },
  {
   "cell_type": "code",
   "execution_count": 38,
   "id": "4407fd34",
   "metadata": {},
   "outputs": [
    {
     "data": {
      "text/html": [
       "<div>\n",
       "<style scoped>\n",
       "    .dataframe tbody tr th:only-of-type {\n",
       "        vertical-align: middle;\n",
       "    }\n",
       "\n",
       "    .dataframe tbody tr th {\n",
       "        vertical-align: top;\n",
       "    }\n",
       "\n",
       "    .dataframe thead th {\n",
       "        text-align: right;\n",
       "    }\n",
       "</style>\n",
       "<table border=\"1\" class=\"dataframe\">\n",
       "  <thead>\n",
       "    <tr style=\"text-align: right;\">\n",
       "      <th></th>\n",
       "      <th>Text</th>\n",
       "    </tr>\n",
       "  </thead>\n",
       "  <tbody>\n",
       "    <tr>\n",
       "      <th>1</th>\n",
       "      <td>keep talk complete new moon lovely</td>\n",
       "    </tr>\n",
       "    <tr>\n",
       "      <th>2</th>\n",
       "      <td>brother get see today</td>\n",
       "    </tr>\n",
       "    <tr>\n",
       "      <th>3</th>\n",
       "      <td>happy thanksgiving parade watch band small ass town</td>\n",
       "    </tr>\n",
       "    <tr>\n",
       "      <th>4</th>\n",
       "      <td>&lt;user&gt; say</td>\n",
       "    </tr>\n",
       "    <tr>\n",
       "      <th>5</th>\n",
       "      <td>&lt;user&gt; say look like lipstick run</td>\n",
       "    </tr>\n",
       "  </tbody>\n",
       "</table>\n",
       "</div>"
      ],
      "text/plain": [
       "                                                  Text\n",
       "1                   keep talk complete new moon lovely\n",
       "2                                brother get see today\n",
       "3  happy thanksgiving parade watch band small ass town\n",
       "4                                           <user> say\n",
       "5                    <user> say look like lipstick run"
      ]
     },
     "execution_count": 38,
     "metadata": {},
     "output_type": "execute_result"
    }
   ],
   "source": [
    "clean_ham_df2 = clean_data(tweets_ham2)\n",
    "clean_ham_df2.head()"
   ]
  },
  {
   "cell_type": "code",
   "execution_count": 39,
   "id": "8d5a8973",
   "metadata": {},
   "outputs": [
    {
     "data": {
      "text/html": [
       "<div>\n",
       "<style scoped>\n",
       "    .dataframe tbody tr th:only-of-type {\n",
       "        vertical-align: middle;\n",
       "    }\n",
       "\n",
       "    .dataframe tbody tr th {\n",
       "        vertical-align: top;\n",
       "    }\n",
       "\n",
       "    .dataframe thead th {\n",
       "        text-align: right;\n",
       "    }\n",
       "</style>\n",
       "<table border=\"1\" class=\"dataframe\">\n",
       "  <thead>\n",
       "    <tr style=\"text-align: right;\">\n",
       "      <th></th>\n",
       "      <th>Text</th>\n",
       "    </tr>\n",
       "  </thead>\n",
       "  <tbody>\n",
       "    <tr>\n",
       "      <th>0</th>\n",
       "      <td>house itchy</td>\n",
       "    </tr>\n",
       "    <tr>\n",
       "      <th>2</th>\n",
       "      <td>bite bore</td>\n",
       "    </tr>\n",
       "    <tr>\n",
       "      <th>3</th>\n",
       "      <td>think read next week forget lot</td>\n",
       "    </tr>\n",
       "    <tr>\n",
       "      <th>4</th>\n",
       "      <td>really good</td>\n",
       "    </tr>\n",
       "    <tr>\n",
       "      <th>5</th>\n",
       "      <td>get blood test</td>\n",
       "    </tr>\n",
       "  </tbody>\n",
       "</table>\n",
       "</div>"
      ],
      "text/plain": [
       "                              Text\n",
       "0                      house itchy\n",
       "2                        bite bore\n",
       "3  think read next week forget lot\n",
       "4                      really good\n",
       "5                   get blood test"
      ]
     },
     "execution_count": 39,
     "metadata": {},
     "output_type": "execute_result"
    }
   ],
   "source": [
    "clean_ham_df3 = clean_data(tweets_ham3)\n",
    "clean_ham_df3.head()"
   ]
  },
  {
   "cell_type": "code",
   "execution_count": 40,
   "id": "8e00d033",
   "metadata": {},
   "outputs": [
    {
     "data": {
      "text/html": [
       "<div>\n",
       "<style scoped>\n",
       "    .dataframe tbody tr th:only-of-type {\n",
       "        vertical-align: middle;\n",
       "    }\n",
       "\n",
       "    .dataframe tbody tr th {\n",
       "        vertical-align: top;\n",
       "    }\n",
       "\n",
       "    .dataframe thead th {\n",
       "        text-align: right;\n",
       "    }\n",
       "</style>\n",
       "<table border=\"1\" class=\"dataframe\">\n",
       "  <thead>\n",
       "    <tr style=\"text-align: right;\">\n",
       "      <th></th>\n",
       "      <th>Text</th>\n",
       "    </tr>\n",
       "  </thead>\n",
       "  <tbody>\n",
       "    <tr>\n",
       "      <th>0</th>\n",
       "      <td>&lt;user&gt; suppose legally cross bank side construct footbridge front</td>\n",
       "    </tr>\n",
       "    <tr>\n",
       "      <th>1</th>\n",
       "      <td>&lt;user&gt; use pedestrian</td>\n",
       "    </tr>\n",
       "    <tr>\n",
       "      <th>2</th>\n",
       "      <td>&lt;user&gt; &lt;user&gt; &lt;user&gt;</td>\n",
       "    </tr>\n",
       "    <tr>\n",
       "      <th>3</th>\n",
       "      <td>&lt;user&gt; guess one sound like</td>\n",
       "    </tr>\n",
       "    <tr>\n",
       "      <th>4</th>\n",
       "      <td>&lt;user&gt; come withdrawal</td>\n",
       "    </tr>\n",
       "  </tbody>\n",
       "</table>\n",
       "</div>"
      ],
      "text/plain": [
       "                                                                Text\n",
       "0  <user> suppose legally cross bank side construct footbridge front\n",
       "1                                              <user> use pedestrian\n",
       "2                                               <user> <user> <user>\n",
       "3                                        <user> guess one sound like\n",
       "4                                             <user> come withdrawal"
      ]
     },
     "execution_count": 40,
     "metadata": {},
     "output_type": "execute_result"
    }
   ],
   "source": [
    "clean_ham_df4 = clean_data(tweets_ham4)\n",
    "clean_ham_df4.head()"
   ]
  },
  {
   "cell_type": "code",
   "execution_count": 41,
   "id": "88c79206",
   "metadata": {},
   "outputs": [
    {
     "data": {
      "text/html": [
       "<div>\n",
       "<style scoped>\n",
       "    .dataframe tbody tr th:only-of-type {\n",
       "        vertical-align: middle;\n",
       "    }\n",
       "\n",
       "    .dataframe tbody tr th {\n",
       "        vertical-align: top;\n",
       "    }\n",
       "\n",
       "    .dataframe thead th {\n",
       "        text-align: right;\n",
       "    }\n",
       "</style>\n",
       "<table border=\"1\" class=\"dataframe\">\n",
       "  <thead>\n",
       "    <tr style=\"text-align: right;\">\n",
       "      <th></th>\n",
       "      <th>Text</th>\n",
       "    </tr>\n",
       "  </thead>\n",
       "  <tbody>\n",
       "    <tr>\n",
       "      <th>0</th>\n",
       "      <td>rt &lt;user&gt; &lt;user&gt; &lt;user&gt; lister &lt;user&gt; back like make twitter</td>\n",
       "    </tr>\n",
       "    <tr>\n",
       "      <th>1</th>\n",
       "      <td>days present several plan still decision leave country</td>\n",
       "    </tr>\n",
       "    <tr>\n",
       "      <th>2</th>\n",
       "      <td>&lt;user&gt; &lt;user&gt; &lt;user&gt; &lt;user&gt; &lt;user&gt; &lt;user&gt; &lt;user&gt; &lt;user&gt; &lt;user&gt;</td>\n",
       "    </tr>\n",
       "    <tr>\n",
       "      <th>3</th>\n",
       "      <td>rt &lt;user&gt; &lt;user&gt;</td>\n",
       "    </tr>\n",
       "    <tr>\n",
       "      <th>4</th>\n",
       "      <td>rt &lt;user&gt; rt &lt;user&gt; anyone thing call open mind brain drop</td>\n",
       "    </tr>\n",
       "  </tbody>\n",
       "</table>\n",
       "</div>"
      ],
      "text/plain": [
       "                                                             Text\n",
       "0    rt <user> <user> <user> lister <user> back like make twitter\n",
       "1          days present several plan still decision leave country\n",
       "2  <user> <user> <user> <user> <user> <user> <user> <user> <user>\n",
       "3                                                rt <user> <user>\n",
       "4      rt <user> rt <user> anyone thing call open mind brain drop"
      ]
     },
     "execution_count": 41,
     "metadata": {},
     "output_type": "execute_result"
    }
   ],
   "source": [
    "clean_ham_df5 = clean_data(tweets_ham5)\n",
    "clean_ham_df5.head()"
   ]
  },
  {
   "cell_type": "code",
   "execution_count": 42,
   "id": "3397d20f",
   "metadata": {},
   "outputs": [
    {
     "data": {
      "text/html": [
       "<div>\n",
       "<style scoped>\n",
       "    .dataframe tbody tr th:only-of-type {\n",
       "        vertical-align: middle;\n",
       "    }\n",
       "\n",
       "    .dataframe tbody tr th {\n",
       "        vertical-align: top;\n",
       "    }\n",
       "\n",
       "    .dataframe thead th {\n",
       "        text-align: right;\n",
       "    }\n",
       "</style>\n",
       "<table border=\"1\" class=\"dataframe\">\n",
       "  <thead>\n",
       "    <tr style=\"text-align: right;\">\n",
       "      <th></th>\n",
       "      <th>Text</th>\n",
       "    </tr>\n",
       "  </thead>\n",
       "  <tbody>\n",
       "    <tr>\n",
       "      <th>6</th>\n",
       "      <td>mac snow leopard &lt;url&gt;</td>\n",
       "    </tr>\n",
       "    <tr>\n",
       "      <th>7</th>\n",
       "      <td>final &lt;url&gt;</td>\n",
       "    </tr>\n",
       "    <tr>\n",
       "      <th>13</th>\n",
       "      <td>vol &lt;url&gt;</td>\n",
       "    </tr>\n",
       "    <tr>\n",
       "      <th>29</th>\n",
       "      <td>video game &lt;url&gt;</td>\n",
       "    </tr>\n",
       "    <tr>\n",
       "      <th>30</th>\n",
       "      <td>video game &lt;url&gt;</td>\n",
       "    </tr>\n",
       "  </tbody>\n",
       "</table>\n",
       "</div>"
      ],
      "text/plain": [
       "                      Text\n",
       "6   mac snow leopard <url>\n",
       "7              final <url>\n",
       "13               vol <url>\n",
       "29        video game <url>\n",
       "30        video game <url>"
      ]
     },
     "execution_count": 42,
     "metadata": {},
     "output_type": "execute_result"
    }
   ],
   "source": [
    "clean_ham_df6 = clean_data(tweets_ham6)\n",
    "clean_ham_df6.head()"
   ]
  },
  {
   "cell_type": "code",
   "execution_count": 43,
   "id": "7ae21485",
   "metadata": {},
   "outputs": [
    {
     "data": {
      "text/html": [
       "<div>\n",
       "<style scoped>\n",
       "    .dataframe tbody tr th:only-of-type {\n",
       "        vertical-align: middle;\n",
       "    }\n",
       "\n",
       "    .dataframe tbody tr th {\n",
       "        vertical-align: top;\n",
       "    }\n",
       "\n",
       "    .dataframe thead th {\n",
       "        text-align: right;\n",
       "    }\n",
       "</style>\n",
       "<table border=\"1\" class=\"dataframe\">\n",
       "  <thead>\n",
       "    <tr style=\"text-align: right;\">\n",
       "      <th></th>\n",
       "      <th>Text</th>\n",
       "    </tr>\n",
       "  </thead>\n",
       "  <tbody>\n",
       "    <tr>\n",
       "      <th>0</th>\n",
       "      <td>&lt;user&gt; hist port</td>\n",
       "    </tr>\n",
       "    <tr>\n",
       "      <th>1</th>\n",
       "      <td>&lt;user&gt; &lt;url&gt; lindo</td>\n",
       "    </tr>\n",
       "    <tr>\n",
       "      <th>2</th>\n",
       "      <td>vim dar</td>\n",
       "    </tr>\n",
       "    <tr>\n",
       "      <th>4</th>\n",
       "      <td>&lt;user&gt; super</td>\n",
       "    </tr>\n",
       "    <tr>\n",
       "      <th>5</th>\n",
       "      <td>&lt;user&gt; twitter</td>\n",
       "    </tr>\n",
       "  </tbody>\n",
       "</table>\n",
       "</div>"
      ],
      "text/plain": [
       "                 Text\n",
       "0    <user> hist port\n",
       "1  <user> <url> lindo\n",
       "2             vim dar\n",
       "4        <user> super\n",
       "5      <user> twitter"
      ]
     },
     "execution_count": 43,
     "metadata": {},
     "output_type": "execute_result"
    }
   ],
   "source": [
    "clean_ham_df7 = clean_data(tweets_ham7)\n",
    "clean_ham_df7.head()"
   ]
  },
  {
   "cell_type": "code",
   "execution_count": 44,
   "id": "910b6152",
   "metadata": {},
   "outputs": [],
   "source": [
    "clean_ham_df1.to_csv('ham_glove/ham1.csv', sep='\\t', index=False, header=False)\n",
    "clean_ham_df2.to_csv('ham_glove/ham2.csv', sep='\\t', index=False, header=False)\n",
    "clean_ham_df3.to_csv('ham_glove/ham3.csv', sep='\\t', index=False, header=False)\n",
    "clean_ham_df4.to_csv('ham_glove/ham4.csv', sep='\\t', index=False, header=False)\n",
    "clean_ham_df5.to_csv('ham_glove/ham5.csv', sep='\\t', index=False, header=False)\n",
    "clean_ham_df6.to_csv('ham_glove/ham6.csv', sep='\\t', index=False, header=False)\n",
    "clean_ham_df7.to_csv('ham_glove/ham7.csv', sep='\\t', index=False, header=False)"
   ]
  },
  {
   "cell_type": "code",
   "execution_count": 45,
   "id": "22e6634b",
   "metadata": {},
   "outputs": [
    {
     "data": {
      "text/html": [
       "<div>\n",
       "<style scoped>\n",
       "    .dataframe tbody tr th:only-of-type {\n",
       "        vertical-align: middle;\n",
       "    }\n",
       "\n",
       "    .dataframe tbody tr th {\n",
       "        vertical-align: top;\n",
       "    }\n",
       "\n",
       "    .dataframe thead th {\n",
       "        text-align: right;\n",
       "    }\n",
       "</style>\n",
       "<table border=\"1\" class=\"dataframe\">\n",
       "  <thead>\n",
       "    <tr style=\"text-align: right;\">\n",
       "      <th></th>\n",
       "      <th>Text</th>\n",
       "    </tr>\n",
       "  </thead>\n",
       "  <tbody>\n",
       "    <tr>\n",
       "      <th>count</th>\n",
       "      <td>357182</td>\n",
       "    </tr>\n",
       "    <tr>\n",
       "      <th>unique</th>\n",
       "      <td>310091</td>\n",
       "    </tr>\n",
       "    <tr>\n",
       "      <th>top</th>\n",
       "      <td>rt &lt;user&gt;</td>\n",
       "    </tr>\n",
       "    <tr>\n",
       "      <th>freq</th>\n",
       "      <td>2859</td>\n",
       "    </tr>\n",
       "  </tbody>\n",
       "</table>\n",
       "</div>"
      ],
      "text/plain": [
       "             Text\n",
       "count      357182\n",
       "unique     310091\n",
       "top     rt <user>\n",
       "freq         2859"
      ]
     },
     "execution_count": 45,
     "metadata": {},
     "output_type": "execute_result"
    }
   ],
   "source": [
    "clean_ham_df1.describe()"
   ]
  },
  {
   "cell_type": "code",
   "execution_count": 46,
   "id": "440fab1a",
   "metadata": {},
   "outputs": [
    {
     "data": {
      "text/html": [
       "<div>\n",
       "<style scoped>\n",
       "    .dataframe tbody tr th:only-of-type {\n",
       "        vertical-align: middle;\n",
       "    }\n",
       "\n",
       "    .dataframe tbody tr th {\n",
       "        vertical-align: top;\n",
       "    }\n",
       "\n",
       "    .dataframe thead th {\n",
       "        text-align: right;\n",
       "    }\n",
       "</style>\n",
       "<table border=\"1\" class=\"dataframe\">\n",
       "  <thead>\n",
       "    <tr style=\"text-align: right;\">\n",
       "      <th></th>\n",
       "      <th>Text</th>\n",
       "    </tr>\n",
       "  </thead>\n",
       "  <tbody>\n",
       "    <tr>\n",
       "      <th>count</th>\n",
       "      <td>2269340</td>\n",
       "    </tr>\n",
       "    <tr>\n",
       "      <th>unique</th>\n",
       "      <td>1788328</td>\n",
       "    </tr>\n",
       "    <tr>\n",
       "      <th>top</th>\n",
       "      <td>rt &lt;user&gt;</td>\n",
       "    </tr>\n",
       "    <tr>\n",
       "      <th>freq</th>\n",
       "      <td>16375</td>\n",
       "    </tr>\n",
       "  </tbody>\n",
       "</table>\n",
       "</div>"
      ],
      "text/plain": [
       "             Text\n",
       "count     2269340\n",
       "unique    1788328\n",
       "top     rt <user>\n",
       "freq        16375"
      ]
     },
     "execution_count": 46,
     "metadata": {},
     "output_type": "execute_result"
    }
   ],
   "source": [
    "frames1 = [clean_ham_df2, clean_ham_df3, clean_ham_df4, clean_ham_df5, clean_ham_df6, clean_ham_df7]\n",
    "\n",
    "\n",
    "clean_ham_df = clean_ham_df1.append(frames1, ignore_index=True)\n",
    "clean_ham_df.describe()"
   ]
  },
  {
   "cell_type": "code",
   "execution_count": 47,
   "id": "2dac8d5b",
   "metadata": {},
   "outputs": [],
   "source": [
    "clean_ham_df.to_csv('ham_glove/ham.csv', sep='\\t', index=False, header=False)"
   ]
  },
  {
   "cell_type": "code",
   "execution_count": 48,
   "id": "f138ed93",
   "metadata": {},
   "outputs": [
    {
     "data": {
      "text/html": [
       "<div>\n",
       "<style scoped>\n",
       "    .dataframe tbody tr th:only-of-type {\n",
       "        vertical-align: middle;\n",
       "    }\n",
       "\n",
       "    .dataframe tbody tr th {\n",
       "        vertical-align: top;\n",
       "    }\n",
       "\n",
       "    .dataframe thead th {\n",
       "        text-align: right;\n",
       "    }\n",
       "</style>\n",
       "<table border=\"1\" class=\"dataframe\">\n",
       "  <thead>\n",
       "    <tr style=\"text-align: right;\">\n",
       "      <th></th>\n",
       "      <th>Text</th>\n",
       "    </tr>\n",
       "  </thead>\n",
       "  <tbody>\n",
       "    <tr>\n",
       "      <th>0</th>\n",
       "      <td>enquiry seek variety act end year show payment per slot &lt;url&gt;</td>\n",
       "    </tr>\n",
       "    <tr>\n",
       "      <th>1</th>\n",
       "      <td>burlesque open date ticket available &lt;url&gt; &lt;url&gt;</td>\n",
       "    </tr>\n",
       "    <tr>\n",
       "      <th>4</th>\n",
       "      <td>come burlesque &lt;url&gt;</td>\n",
       "    </tr>\n",
       "    <tr>\n",
       "      <th>5</th>\n",
       "      <td>century write perform black flamingo berlin &lt;url&gt;</td>\n",
       "    </tr>\n",
       "    <tr>\n",
       "      <th>6</th>\n",
       "      <td>burlesque come burlesque head &lt;url&gt;</td>\n",
       "    </tr>\n",
       "  </tbody>\n",
       "</table>\n",
       "</div>"
      ],
      "text/plain": [
       "                                                            Text\n",
       "0  enquiry seek variety act end year show payment per slot <url>\n",
       "1               burlesque open date ticket available <url> <url>\n",
       "4                                           come burlesque <url>\n",
       "5              century write perform black flamingo berlin <url>\n",
       "6                            burlesque come burlesque head <url>"
      ]
     },
     "execution_count": 48,
     "metadata": {},
     "output_type": "execute_result"
    }
   ],
   "source": [
    "clean_spam_df1 = clean_data(tweets_spam1)\n",
    "clean_spam_df1.head()"
   ]
  },
  {
   "cell_type": "code",
   "execution_count": 49,
   "id": "720a1554",
   "metadata": {},
   "outputs": [
    {
     "data": {
      "text/html": [
       "<div>\n",
       "<style scoped>\n",
       "    .dataframe tbody tr th:only-of-type {\n",
       "        vertical-align: middle;\n",
       "    }\n",
       "\n",
       "    .dataframe tbody tr th {\n",
       "        vertical-align: top;\n",
       "    }\n",
       "\n",
       "    .dataframe thead th {\n",
       "        text-align: right;\n",
       "    }\n",
       "</style>\n",
       "<table border=\"1\" class=\"dataframe\">\n",
       "  <thead>\n",
       "    <tr style=\"text-align: right;\">\n",
       "      <th></th>\n",
       "      <th>Text</th>\n",
       "    </tr>\n",
       "  </thead>\n",
       "  <tbody>\n",
       "    <tr>\n",
       "      <th>0</th>\n",
       "      <td>follow reply &lt;user&gt; follow</td>\n",
       "    </tr>\n",
       "    <tr>\n",
       "      <th>1</th>\n",
       "      <td>&lt;user&gt; thank follow</td>\n",
       "    </tr>\n",
       "    <tr>\n",
       "      <th>2</th>\n",
       "      <td>&lt;user&gt; thank follow read err listen audible happy</td>\n",
       "    </tr>\n",
       "    <tr>\n",
       "      <th>4</th>\n",
       "      <td>&lt;user&gt; ticket sell fast &lt;url&gt;</td>\n",
       "    </tr>\n",
       "    <tr>\n",
       "      <th>5</th>\n",
       "      <td>&lt;user&gt; shalom thank add &lt;url&gt;</td>\n",
       "    </tr>\n",
       "  </tbody>\n",
       "</table>\n",
       "</div>"
      ],
      "text/plain": [
       "                                                Text\n",
       "0                         follow reply <user> follow\n",
       "1                                <user> thank follow\n",
       "2  <user> thank follow read err listen audible happy\n",
       "4                      <user> ticket sell fast <url>\n",
       "5                      <user> shalom thank add <url>"
      ]
     },
     "execution_count": 49,
     "metadata": {},
     "output_type": "execute_result"
    }
   ],
   "source": [
    "clean_spam_df2 = clean_data(tweets_spam2)\n",
    "clean_spam_df2.head()"
   ]
  },
  {
   "cell_type": "code",
   "execution_count": 50,
   "id": "42b8fb2e",
   "metadata": {},
   "outputs": [
    {
     "data": {
      "text/html": [
       "<div>\n",
       "<style scoped>\n",
       "    .dataframe tbody tr th:only-of-type {\n",
       "        vertical-align: middle;\n",
       "    }\n",
       "\n",
       "    .dataframe tbody tr th {\n",
       "        vertical-align: top;\n",
       "    }\n",
       "\n",
       "    .dataframe thead th {\n",
       "        text-align: right;\n",
       "    }\n",
       "</style>\n",
       "<table border=\"1\" class=\"dataframe\">\n",
       "  <thead>\n",
       "    <tr style=\"text-align: right;\">\n",
       "      <th></th>\n",
       "      <th>Text</th>\n",
       "    </tr>\n",
       "  </thead>\n",
       "  <tbody>\n",
       "    <tr>\n",
       "      <th>0</th>\n",
       "      <td>tool succeed visit &lt;url&gt; one place one purpose</td>\n",
       "    </tr>\n",
       "    <tr>\n",
       "      <th>1</th>\n",
       "      <td>almost get ready one stop destination wait visit &lt;url&gt;</td>\n",
       "    </tr>\n",
       "    <tr>\n",
       "      <th>2</th>\n",
       "      <td>new post yes white &lt;url&gt;</td>\n",
       "    </tr>\n",
       "    <tr>\n",
       "      <th>3</th>\n",
       "      <td>new post link cloak need know &lt;url&gt;</td>\n",
       "    </tr>\n",
       "    <tr>\n",
       "      <th>4</th>\n",
       "      <td>sick market new way come learn earn &lt;url&gt;</td>\n",
       "    </tr>\n",
       "  </tbody>\n",
       "</table>\n",
       "</div>"
      ],
      "text/plain": [
       "                                                     Text\n",
       "0          tool succeed visit <url> one place one purpose\n",
       "1  almost get ready one stop destination wait visit <url>\n",
       "2                                new post yes white <url>\n",
       "3                     new post link cloak need know <url>\n",
       "4               sick market new way come learn earn <url>"
      ]
     },
     "execution_count": 50,
     "metadata": {},
     "output_type": "execute_result"
    }
   ],
   "source": [
    "clean_spam_df3 = clean_data(tweets_spam3)\n",
    "clean_spam_df3.head()"
   ]
  },
  {
   "cell_type": "code",
   "execution_count": 51,
   "id": "3aa00a88",
   "metadata": {},
   "outputs": [
    {
     "data": {
      "text/html": [
       "<div>\n",
       "<style scoped>\n",
       "    .dataframe tbody tr th:only-of-type {\n",
       "        vertical-align: middle;\n",
       "    }\n",
       "\n",
       "    .dataframe tbody tr th {\n",
       "        vertical-align: top;\n",
       "    }\n",
       "\n",
       "    .dataframe thead th {\n",
       "        text-align: right;\n",
       "    }\n",
       "</style>\n",
       "<table border=\"1\" class=\"dataframe\">\n",
       "  <thead>\n",
       "    <tr style=\"text-align: right;\">\n",
       "      <th></th>\n",
       "      <th>Text</th>\n",
       "    </tr>\n",
       "  </thead>\n",
       "  <tbody>\n",
       "    <tr>\n",
       "      <th>0</th>\n",
       "      <td>travel information travel guide &lt;url&gt;</td>\n",
       "    </tr>\n",
       "    <tr>\n",
       "      <th>1</th>\n",
       "      <td>search travel sit compare result &lt;url&gt;</td>\n",
       "    </tr>\n",
       "    <tr>\n",
       "      <th>2</th>\n",
       "      <td>travel information &lt;url&gt;</td>\n",
       "    </tr>\n",
       "    <tr>\n",
       "      <th>3</th>\n",
       "      <td>cheap travel insurance package &lt;url&gt;</td>\n",
       "    </tr>\n",
       "    <tr>\n",
       "      <th>4</th>\n",
       "      <td>review vacation resort vacation travel</td>\n",
       "    </tr>\n",
       "  </tbody>\n",
       "</table>\n",
       "</div>"
      ],
      "text/plain": [
       "                                     Text\n",
       "0   travel information travel guide <url>\n",
       "1  search travel sit compare result <url>\n",
       "2                travel information <url>\n",
       "3    cheap travel insurance package <url>\n",
       "4  review vacation resort vacation travel"
      ]
     },
     "execution_count": 51,
     "metadata": {},
     "output_type": "execute_result"
    }
   ],
   "source": [
    "clean_spam_df4 = clean_data(tweets_spam4)\n",
    "clean_spam_df4.head()"
   ]
  },
  {
   "cell_type": "code",
   "execution_count": 52,
   "id": "1cf25f76",
   "metadata": {},
   "outputs": [
    {
     "data": {
      "text/html": [
       "<div>\n",
       "<style scoped>\n",
       "    .dataframe tbody tr th:only-of-type {\n",
       "        vertical-align: middle;\n",
       "    }\n",
       "\n",
       "    .dataframe tbody tr th {\n",
       "        vertical-align: top;\n",
       "    }\n",
       "\n",
       "    .dataframe thead th {\n",
       "        text-align: right;\n",
       "    }\n",
       "</style>\n",
       "<table border=\"1\" class=\"dataframe\">\n",
       "  <thead>\n",
       "    <tr style=\"text-align: right;\">\n",
       "      <th></th>\n",
       "      <th>Text</th>\n",
       "    </tr>\n",
       "  </thead>\n",
       "  <tbody>\n",
       "    <tr>\n",
       "      <th>0</th>\n",
       "      <td>additional income stream net</td>\n",
       "    </tr>\n",
       "    <tr>\n",
       "      <th>1</th>\n",
       "      <td>business come outside network market net</td>\n",
       "    </tr>\n",
       "    <tr>\n",
       "      <th>2</th>\n",
       "      <td>canada come net</td>\n",
       "    </tr>\n",
       "    <tr>\n",
       "      <th>3</th>\n",
       "      <td>world wide brand icon net</td>\n",
       "    </tr>\n",
       "    <tr>\n",
       "      <th>4</th>\n",
       "      <td>market fun trump network want &lt;url&gt;</td>\n",
       "    </tr>\n",
       "  </tbody>\n",
       "</table>\n",
       "</div>"
      ],
      "text/plain": [
       "                                       Text\n",
       "0              additional income stream net\n",
       "1  business come outside network market net\n",
       "2                           canada come net\n",
       "3                 world wide brand icon net\n",
       "4       market fun trump network want <url>"
      ]
     },
     "execution_count": 52,
     "metadata": {},
     "output_type": "execute_result"
    }
   ],
   "source": [
    "clean_spam_df5 = clean_data(tweets_spam5)\n",
    "clean_spam_df5.head()"
   ]
  },
  {
   "cell_type": "code",
   "execution_count": 53,
   "id": "967cbc63",
   "metadata": {},
   "outputs": [],
   "source": [
    "clean_spam_df1.to_csv('spam_glove/spam1.csv', sep='\\t', index=False, header=False)\n",
    "clean_spam_df2.to_csv('spam_glove/spam2.csv', sep='\\t', index=False, header=False)\n",
    "clean_spam_df3.to_csv('spam_glove/spam3.csv', sep='\\t', index=False, header=False)\n",
    "clean_spam_df4.to_csv('spam_glove/spam4.csv', sep='\\t', index=False, header=False)\n",
    "clean_spam_df5.to_csv('spam_glove/spam5.csv', sep='\\t', index=False, header=False)"
   ]
  },
  {
   "cell_type": "code",
   "execution_count": 54,
   "id": "49b9bf5f",
   "metadata": {},
   "outputs": [],
   "source": [
    "frames2 = [clean_spam_df2, clean_spam_df3, clean_spam_df4, clean_spam_df5]\n",
    "\n",
    "\n",
    "clean_spam_df = clean_spam_df1.append(frames2, ignore_index=True)\n",
    "clean_spam_df.describe()\n",
    "clean_spam_df.to_csv('spam_glove/spam.csv', sep='\\t', index=False, header=False)"
   ]
  },
  {
   "cell_type": "code",
   "execution_count": 55,
   "id": "1599833e",
   "metadata": {},
   "outputs": [
    {
     "name": "stdout",
     "output_type": "stream",
     "text": [
      "35\n",
      "17\n",
      "15\n",
      "22142\n",
      "['sad', 'sad', 'sad', 'sad', 'sad', 'sad', 'sad', 'sad', 'sad', 'sad', 'sad', 'sad', 'sad', 'sad', 'sad', 'sad', 'sad', 'sad', 'sad', 'sad', 'sad', 'sad', 'sad', 'sad', 'sad', 'sad', 'sad', 'sad', 'sad', 'sad', 'sad', 'sad', 'sad', 'sad', 'sad']\n",
      "['add', 'kill', 'achieve', 'world', 'domination', 'list', 'rt', '<user>', 'wonder', 'anyone', 'implement', 'shag', 'marry', 'murder', 'twitter', 'list', 'yet']\n"
     ]
    }
   ],
   "source": [
    "# Check length of longest tweet\n",
    "x = clean_ham_df[\"Text\"].str.split(\" \")\n",
    "max_len1 = 0\n",
    "max_len2 = 0\n",
    "max_len3 = 0\n",
    "max_row1 = 0\n",
    "count = 0\n",
    "index = 0\n",
    "\n",
    "for i in x:\n",
    "    if len(i)>max_len1:\n",
    "        max_len3 = max_len2\n",
    "        max_len2 = max_len1\n",
    "        max_len1 = len(i)\n",
    "        max_row2 = max_row1\n",
    "        max_row1 = i\n",
    "        index = count\n",
    "    count = count+1\n",
    "        \n",
    "print(max_len1)\n",
    "print(max_len2)\n",
    "print(max_len3)\n",
    "print(index)\n",
    "print(max_row1)\n",
    "print(max_row2)"
   ]
  },
  {
   "cell_type": "code",
   "execution_count": 56,
   "id": "5aed5860",
   "metadata": {},
   "outputs": [
    {
     "name": "stdout",
     "output_type": "stream",
     "text": [
      "['rt', '<user>', 'want', 'bother', 'rt', '<user>', 'rt', '<user>', 'rt', '<user>', 'rt', '<user>', 'rt', '<user>', 'rt', '<user>', 'rt', '<user>', 'rt', '<user>', 'rt']\n",
      "['ring', 'ring', 'ring', 'ring', 'ring', 'ring', 'ring', 'ring', 'ring', 'ring', 'ring', 'ring', 'ring', 'ring', 'ring', 'ring', 'ring', 'ring', 'ring', 'ring', '<url>']\n",
      "['half', 'past', 'seven', 'half', 'past', 'seven', 'half', 'past', 'seven', 'half', 'past', 'seven', 'half', 'past', 'seven', 'half', 'past', 'seven', 'like', 'end', 'horror']\n",
      "['<user>', 'everything', 'record', 'different', 'foo', 'feel', 'dont', 'sound', 'like', 'dope', 'man', 'dope', 'man', 'dont', 'sound', 'like', 'goon', 'get', 'rock', 'pop', 'country']\n",
      "['team', 'cyrus', 'forever', 'team', 'cyrus', 'forever', 'team', 'cyrus', 'forever', 'team', 'cyrus', 'forever', 'team', 'cyrus', 'forever', 'team', 'cyrus', 'forever', 'team', 'cyrus', 'forever']\n",
      "['team', 'cyrus', 'forever', 'team', 'cyrus', 'forever', 'team', 'cyrus', 'forever', 'team', 'cyrus', 'forever', 'team', 'cyrus', 'forever', 'team', 'cyrus', 'forever', 'team', 'cyrus', 'forever']\n",
      "['rt', '<user>', '<user>', 'nothing', 'like', 'word', 'new', 'new', 'car', 'new', 'purse', 'new', 'shoe', 'new', 'pussy', 'new', 'house', 'bout', 'new', 'new', 'boo']\n",
      "['sop', 'kaki', 'nasi', 'sop', 'kaki', 'nasi', 'sop', 'kaki', 'nasi', 'sop', 'kaki', 'nasi', 'sop', 'kaki', 'nasi', 'sop', 'kaki', 'nasi', 'sop', 'kaki', 'nasi']\n",
      "['joe', 'let', 'see', 'body', 'bounce', 'baby', 'nick', 'let', 'see', 'body', 'bounce', 'joe', 'let', 'see', 'body', 'bounce', 'right', 'nick', 'yeah', 'man', 'nick']\n",
      "['rt', '<user>', 'rt', '<user>', '<user>', 'wale', 'wale', 'wale', 'wale', 'wale', 'wale', 'wale', 'wale', 'wale', 'wale', 'wale', 'wale', 'wale', 'wale', 'wale', 'wale']\n",
      "['wan', 'sorry', 'weirdness', 'muse', 'muse', 'muse', 'muse', 'muse', 'muse', 'muse', 'muse', 'muse', 'muse', 'muse', 'muse', 'muse', 'muse', 'muse', 'muse', 'muse', 'muse']\n",
      "['blue', 'baa', 'dee', 'baa', 'dye', 'baa', 'dee', 'baa', 'dye', 'baa', 'dee', 'baa', 'dye', 'baa', 'dee', 'baa', 'dye', 'baa', 'dee', 'baa', 'dye']\n",
      "['also', 'hate', 'fan', 'suck', 'suck', 'suck', 'suck', 'suck', 'suck', 'suck', 'suck', 'suck', 'suck', 'suck', 'suck', 'suck', 'suck', 'suck', 'suck', 'suck', 'suck']\n",
      "number of length 2 tweets: 13\n"
     ]
    }
   ],
   "source": [
    "num = 0\n",
    "for i in x:\n",
    "    if len(i)==21:\n",
    "        print(i)\n",
    "        num+=1\n",
    "print(\"number of length {} tweets: {}\".format(len(i),num))"
   ]
  },
  {
   "cell_type": "code",
   "execution_count": 57,
   "id": "32a104cb",
   "metadata": {},
   "outputs": [
    {
     "data": {
      "text/html": [
       "<div>\n",
       "<style scoped>\n",
       "    .dataframe tbody tr th:only-of-type {\n",
       "        vertical-align: middle;\n",
       "    }\n",
       "\n",
       "    .dataframe tbody tr th {\n",
       "        vertical-align: top;\n",
       "    }\n",
       "\n",
       "    .dataframe thead th {\n",
       "        text-align: right;\n",
       "    }\n",
       "</style>\n",
       "<table border=\"1\" class=\"dataframe\">\n",
       "  <thead>\n",
       "    <tr style=\"text-align: right;\">\n",
       "      <th></th>\n",
       "      <th>Text</th>\n",
       "      <th>Label</th>\n",
       "    </tr>\n",
       "  </thead>\n",
       "  <tbody>\n",
       "    <tr>\n",
       "      <th>count</th>\n",
       "      <td>2269340</td>\n",
       "      <td>2269340</td>\n",
       "    </tr>\n",
       "    <tr>\n",
       "      <th>unique</th>\n",
       "      <td>1788328</td>\n",
       "      <td>1</td>\n",
       "    </tr>\n",
       "    <tr>\n",
       "      <th>top</th>\n",
       "      <td>rt &lt;user&gt;</td>\n",
       "      <td>Ham</td>\n",
       "    </tr>\n",
       "    <tr>\n",
       "      <th>freq</th>\n",
       "      <td>16375</td>\n",
       "      <td>2269340</td>\n",
       "    </tr>\n",
       "  </tbody>\n",
       "</table>\n",
       "</div>"
      ],
      "text/plain": [
       "             Text    Label\n",
       "count     2269340  2269340\n",
       "unique    1788328        1\n",
       "top     rt <user>      Ham\n",
       "freq        16375  2269340"
      ]
     },
     "execution_count": 57,
     "metadata": {},
     "output_type": "execute_result"
    }
   ],
   "source": [
    "clean_ham_df['Label'] = 'Ham'\n",
    "clean_ham_df.describe()"
   ]
  },
  {
   "cell_type": "code",
   "execution_count": 58,
   "id": "bfb4b4f9",
   "metadata": {},
   "outputs": [
    {
     "data": {
      "text/html": [
       "<div>\n",
       "<style scoped>\n",
       "    .dataframe tbody tr th:only-of-type {\n",
       "        vertical-align: middle;\n",
       "    }\n",
       "\n",
       "    .dataframe tbody tr th {\n",
       "        vertical-align: top;\n",
       "    }\n",
       "\n",
       "    .dataframe thead th {\n",
       "        text-align: right;\n",
       "    }\n",
       "</style>\n",
       "<table border=\"1\" class=\"dataframe\">\n",
       "  <thead>\n",
       "    <tr style=\"text-align: right;\">\n",
       "      <th></th>\n",
       "      <th>Text</th>\n",
       "      <th>Label</th>\n",
       "    </tr>\n",
       "  </thead>\n",
       "  <tbody>\n",
       "    <tr>\n",
       "      <th>count</th>\n",
       "      <td>1725268</td>\n",
       "      <td>1725268</td>\n",
       "    </tr>\n",
       "    <tr>\n",
       "      <th>unique</th>\n",
       "      <td>1480393</td>\n",
       "      <td>1</td>\n",
       "    </tr>\n",
       "    <tr>\n",
       "      <th>top</th>\n",
       "      <td>subscribe channel &lt;url&gt;</td>\n",
       "      <td>Spam</td>\n",
       "    </tr>\n",
       "    <tr>\n",
       "      <th>freq</th>\n",
       "      <td>2665</td>\n",
       "      <td>1725268</td>\n",
       "    </tr>\n",
       "  </tbody>\n",
       "</table>\n",
       "</div>"
      ],
      "text/plain": [
       "                           Text    Label\n",
       "count                   1725268  1725268\n",
       "unique                  1480393        1\n",
       "top     subscribe channel <url>     Spam\n",
       "freq                       2665  1725268"
      ]
     },
     "execution_count": 58,
     "metadata": {},
     "output_type": "execute_result"
    }
   ],
   "source": [
    "clean_spam_df['Label'] = 'Spam'\n",
    "clean_spam_df.describe()"
   ]
  },
  {
   "cell_type": "code",
   "execution_count": 59,
   "id": "a4d89604",
   "metadata": {},
   "outputs": [
    {
     "data": {
      "text/html": [
       "<div>\n",
       "<style scoped>\n",
       "    .dataframe tbody tr th:only-of-type {\n",
       "        vertical-align: middle;\n",
       "    }\n",
       "\n",
       "    .dataframe tbody tr th {\n",
       "        vertical-align: top;\n",
       "    }\n",
       "\n",
       "    .dataframe thead th {\n",
       "        text-align: right;\n",
       "    }\n",
       "</style>\n",
       "<table border=\"1\" class=\"dataframe\">\n",
       "  <thead>\n",
       "    <tr style=\"text-align: right;\">\n",
       "      <th></th>\n",
       "      <th>Text</th>\n",
       "      <th>Label</th>\n",
       "    </tr>\n",
       "  </thead>\n",
       "  <tbody>\n",
       "    <tr>\n",
       "      <th>count</th>\n",
       "      <td>3994608</td>\n",
       "      <td>3994608</td>\n",
       "    </tr>\n",
       "    <tr>\n",
       "      <th>unique</th>\n",
       "      <td>3229606</td>\n",
       "      <td>2</td>\n",
       "    </tr>\n",
       "    <tr>\n",
       "      <th>top</th>\n",
       "      <td>rt &lt;user&gt;</td>\n",
       "      <td>Ham</td>\n",
       "    </tr>\n",
       "    <tr>\n",
       "      <th>freq</th>\n",
       "      <td>17325</td>\n",
       "      <td>2269340</td>\n",
       "    </tr>\n",
       "  </tbody>\n",
       "</table>\n",
       "</div>"
      ],
      "text/plain": [
       "             Text    Label\n",
       "count     3994608  3994608\n",
       "unique    3229606        2\n",
       "top     rt <user>      Ham\n",
       "freq        17325  2269340"
      ]
     },
     "execution_count": 59,
     "metadata": {},
     "output_type": "execute_result"
    }
   ],
   "source": [
    "tweets_text = clean_ham_df.append(clean_spam_df, ignore_index=True)\n",
    "tweets_text.describe()"
   ]
  },
  {
   "cell_type": "code",
   "execution_count": 60,
   "id": "88667f2a",
   "metadata": {},
   "outputs": [
    {
     "name": "stdout",
     "output_type": "stream",
     "text": [
      "Out of 3994608 rows, 1725268 are spams, 2269340 are non-spams\n"
     ]
    }
   ],
   "source": [
    "#Summary of Tweet Text dataset\n",
    "print(\"Out of {} rows, {} are spams, {} are non-spams\".format(len(tweets_text),\n",
    "                                                              len(tweets_text[tweets_text['Label']=='Spam']),\n",
    "                                                              len(tweets_text[tweets_text['Label']=='Ham'])))"
   ]
  },
  {
   "cell_type": "code",
   "execution_count": 61,
   "id": "f953f6e8",
   "metadata": {},
   "outputs": [
    {
     "data": {
      "text/plain": [
       "Text     0\n",
       "Label    0\n",
       "dtype: int64"
      ]
     },
     "execution_count": 61,
     "metadata": {},
     "output_type": "execute_result"
    }
   ],
   "source": [
    "tweets_text.isnull().sum()"
   ]
  },
  {
   "cell_type": "code",
   "execution_count": 62,
   "id": "b2bb8d44",
   "metadata": {},
   "outputs": [],
   "source": [
    "#export cleaned Tweet Text dataset\n",
    "tweets_text.to_csv('final_dataset_glove.txt', sep='\\t', index=False, header=False)"
   ]
  },
  {
   "cell_type": "code",
   "execution_count": null,
   "id": "9f0050b6",
   "metadata": {},
   "outputs": [],
   "source": []
  }
 ],
 "metadata": {
  "kernelspec": {
   "display_name": "Python 3 (ipykernel)",
   "language": "python",
   "name": "python3"
  },
  "language_info": {
   "codemirror_mode": {
    "name": "ipython",
    "version": 3
   },
   "file_extension": ".py",
   "mimetype": "text/x-python",
   "name": "python",
   "nbconvert_exporter": "python",
   "pygments_lexer": "ipython3",
   "version": "3.7.9"
  }
 },
 "nbformat": 4,
 "nbformat_minor": 5
}
