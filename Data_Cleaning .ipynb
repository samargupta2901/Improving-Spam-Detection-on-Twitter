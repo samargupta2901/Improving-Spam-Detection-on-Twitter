{
 "cells": [
  {
   "cell_type": "code",
   "execution_count": 36,
   "id": "42bf3e63",
   "metadata": {},
   "outputs": [],
   "source": [
    "import pickle\n",
    "import nltk\n",
    "import string\n",
    "import numpy as np\n",
    "import pandas as pd\n",
    "import regex as re\n",
    "import tensorflow as tf\n",
    "from nltk.corpus import words\n",
    "from nltk.tokenize import word_tokenize, wordpunct_tokenize\n",
    "from nltk.stem.wordnet import WordNetLemmatizer\n",
    "from nltk.stem import PorterStemmer\n",
    "from keras.models import load_model\n",
    "from keras_preprocessing.sequence import pad_sequences\n",
    "import time\n",
    "\n",
    "pd.set_option('display.max_colwidth', 140)"
   ]
  },
  {
   "cell_type": "code",
   "execution_count": 38,
   "id": "25179acd",
   "metadata": {},
   "outputs": [
    {
     "name": "stderr",
     "output_type": "stream",
     "text": [
      "[nltk_data] Downloading package words to\n",
      "[nltk_data]     C:\\Users\\Samar\\AppData\\Roaming\\nltk_data...\n",
      "[nltk_data]   Unzipping corpora\\words.zip.\n"
     ]
    }
   ],
   "source": [
    "import nltk.corpus\n",
    "nltk.download('words')\n",
    "words = words.words()\n",
    "newWords = ['url','retweet','usermention','hashtag']\n",
    "words.extend(newWords)\n",
    "words = set(words)\n",
    "stop_words = set(stopwords.words(\"english\"))\n",
    "wn = WordNetLemmatizer()"
   ]
  },
  {
   "cell_type": "code",
   "execution_count": 39,
   "id": "b7a68d44",
   "metadata": {},
   "outputs": [
    {
     "name": "stdout",
     "output_type": "stream",
     "text": [
      "url : carri\n",
      "retweet : carri\n",
      "usermention : carri\n",
      "Time Taken:  0.0\n"
     ]
    }
   ],
   "source": [
    "ps =PorterStemmer()\n",
    "start1 = time.time()\n",
    "a = ps.stem(\"carries\")\n",
    "b = ps.stem(\"carried\")\n",
    "c = ps.stem(\"carrying\")\n",
    "end1 = time.time()\n",
    "print(\"url :\", a) \n",
    "print(\"retweet :\", b) \n",
    "print(\"usermention :\", c)\n",
    "print(\"Time Taken: \", end1-start1)"
   ]
  },
  {
   "cell_type": "code",
   "execution_count": 40,
   "id": "4c9d436d",
   "metadata": {},
   "outputs": [
    {
     "name": "stdout",
     "output_type": "stream",
     "text": [
      "url : carry\n",
      "retweet : carried\n",
      "usermention : carrying\n",
      "Time Taken:  0.2589242458343506\n"
     ]
    }
   ],
   "source": [
    "start2 = time.time()\n",
    "d = wn.lemmatize(\"carries\")\n",
    "e = wn.lemmatize(\"carried\")\n",
    "f = wn.lemmatize(\"carrying\")\n",
    "end2 = time.time()\n",
    "print(\"url :\", d) \n",
    "print(\"retweet :\", e) \n",
    "print(\"usermention :\", f) \n",
    "print(\"Time Taken: \", end2-start2)"
   ]
  },
  {
   "cell_type": "code",
   "execution_count": 41,
   "id": "4ddcaa6b",
   "metadata": {},
   "outputs": [
    {
     "data": {
      "text/plain": [
       "True"
      ]
     },
     "execution_count": 41,
     "metadata": {},
     "output_type": "execute_result"
    }
   ],
   "source": [
    "\"hashtag\" in words"
   ]
  },
  {
   "cell_type": "code",
   "execution_count": 42,
   "id": "981bd629",
   "metadata": {},
   "outputs": [
    {
     "name": "stdout",
     "output_type": "stream",
     "text": [
      "url : url\n",
      "retweet : retweet\n",
      "usermention : usermention\n",
      "hashtag : hashtag\n"
     ]
    }
   ],
   "source": [
    "print(\"url :\", wn.lemmatize(\"url\", pos='v')) \n",
    "print(\"retweet :\", wn.lemmatize(\"retweet\", pos='v')) \n",
    "print(\"usermention :\", wn.lemmatize(\"usermention\", pos='v')) \n",
    "print(\"hashtag :\", wn.lemmatize(\"hashtag\", pos='v')) "
   ]
  },
  {
   "cell_type": "code",
   "execution_count": null,
   "id": "163f1dc6",
   "metadata": {},
   "outputs": [],
   "source": [
    "f1 = open(\"dataset/legitimate_users_tweets.txt\", errors = 'ignore')\n",
    "input_file1 = f1.read()"
   ]
  },
  {
   "cell_type": "code",
   "execution_count": null,
   "id": "beee03f9",
   "metadata": {},
   "outputs": [],
   "source": [
    "f2 = open(\"dataset/content_polluters_tweets.txt\", errors = 'ignore')\n",
    "input_file2 = f2.read()"
   ]
  },
  {
   "cell_type": "code",
   "execution_count": 9,
   "id": "0d96fafc",
   "metadata": {},
   "outputs": [],
   "source": [
    "def text_to_df(file):\n",
    "    parsedData = file.replace('\\t', '\\n').split('\\n')\n",
    "    textList = parsedData[2::4]\n",
    "    df = pd.DataFrame({'Text': textList})\n",
    "    return df"
   ]
  },
  {
   "cell_type": "code",
   "execution_count": 10,
   "id": "a39bc4a6",
   "metadata": {},
   "outputs": [
    {
     "data": {
      "text/html": [
       "<div>\n",
       "<style scoped>\n",
       "    .dataframe tbody tr th:only-of-type {\n",
       "        vertical-align: middle;\n",
       "    }\n",
       "\n",
       "    .dataframe tbody tr th {\n",
       "        vertical-align: top;\n",
       "    }\n",
       "\n",
       "    .dataframe thead th {\n",
       "        text-align: right;\n",
       "    }\n",
       "</style>\n",
       "<table border=\"1\" class=\"dataframe\">\n",
       "  <thead>\n",
       "    <tr style=\"text-align: right;\">\n",
       "      <th></th>\n",
       "      <th>Text</th>\n",
       "    </tr>\n",
       "  </thead>\n",
       "  <tbody>\n",
       "    <tr>\n",
       "      <th>0</th>\n",
       "      <td>â€¦ at house party in Daybreak. Not as weird as I'd feared. ;)</td>\n",
       "    </tr>\n",
       "    <tr>\n",
       "      <th>1</th>\n",
       "      <td>Taxiing  â€” at SLC Salt Lake City International http://gowal.la/s/b7V</td>\n",
       "    </tr>\n",
       "    <tr>\n",
       "      <th>2</th>\n",
       "      <td>Almost home! â€” at PDX Portland International  http://gowal.la/s/66X</td>\n",
       "    </tr>\n",
       "    <tr>\n",
       "      <th>3</th>\n",
       "      <td>Lunch!  â€” at Ten01 http://gowal.la/s/Awa</td>\n",
       "    </tr>\n",
       "    <tr>\n",
       "      <th>4</th>\n",
       "      <td>Mm â€¦ books â€” at @Powells http://gowal.la/s/6fe</td>\n",
       "    </tr>\n",
       "  </tbody>\n",
       "</table>\n",
       "</div>"
      ],
      "text/plain": [
       "                                                                     Text\n",
       "0          â€¦ at house party in Daybreak. Not as weird as I'd feared. ;)\n",
       "1  Taxiing  â€” at SLC Salt Lake City International http://gowal.la/s/b7V\n",
       "2   Almost home! â€” at PDX Portland International  http://gowal.la/s/66X\n",
       "3                              Lunch!  â€” at Ten01 http://gowal.la/s/Awa\n",
       "4                      Mm â€¦ books â€” at @Powells http://gowal.la/s/6fe"
      ]
     },
     "execution_count": 10,
     "metadata": {},
     "output_type": "execute_result"
    }
   ],
   "source": [
    "tweets_ham = text_to_df(input_file1)\n",
    "tweets_ham.head()"
   ]
  },
  {
   "cell_type": "code",
   "execution_count": 11,
   "id": "f79aca23",
   "metadata": {},
   "outputs": [
    {
     "data": {
      "text/html": [
       "<div>\n",
       "<style scoped>\n",
       "    .dataframe tbody tr th:only-of-type {\n",
       "        vertical-align: middle;\n",
       "    }\n",
       "\n",
       "    .dataframe tbody tr th {\n",
       "        vertical-align: top;\n",
       "    }\n",
       "\n",
       "    .dataframe thead th {\n",
       "        text-align: right;\n",
       "    }\n",
       "</style>\n",
       "<table border=\"1\" class=\"dataframe\">\n",
       "  <thead>\n",
       "    <tr style=\"text-align: right;\">\n",
       "      <th></th>\n",
       "      <th>Text</th>\n",
       "    </tr>\n",
       "  </thead>\n",
       "  <tbody>\n",
       "    <tr>\n",
       "      <th>count</th>\n",
       "      <td>1000000</td>\n",
       "    </tr>\n",
       "    <tr>\n",
       "      <th>unique</th>\n",
       "      <td>989114</td>\n",
       "    </tr>\n",
       "    <tr>\n",
       "      <th>top</th>\n",
       "      <td>@tarot3</td>\n",
       "    </tr>\n",
       "    <tr>\n",
       "      <th>freq</th>\n",
       "      <td>65</td>\n",
       "    </tr>\n",
       "  </tbody>\n",
       "</table>\n",
       "</div>"
      ],
      "text/plain": [
       "           Text\n",
       "count   1000000\n",
       "unique   989114\n",
       "top     @tarot3\n",
       "freq         65"
      ]
     },
     "execution_count": 11,
     "metadata": {},
     "output_type": "execute_result"
    }
   ],
   "source": [
    "tweets_ham.describe()"
   ]
  },
  {
   "cell_type": "code",
   "execution_count": 12,
   "id": "27c49d28",
   "metadata": {},
   "outputs": [
    {
     "data": {
      "text/html": [
       "<div>\n",
       "<style scoped>\n",
       "    .dataframe tbody tr th:only-of-type {\n",
       "        vertical-align: middle;\n",
       "    }\n",
       "\n",
       "    .dataframe tbody tr th {\n",
       "        vertical-align: top;\n",
       "    }\n",
       "\n",
       "    .dataframe thead th {\n",
       "        text-align: right;\n",
       "    }\n",
       "</style>\n",
       "<table border=\"1\" class=\"dataframe\">\n",
       "  <thead>\n",
       "    <tr style=\"text-align: right;\">\n",
       "      <th></th>\n",
       "      <th>Text</th>\n",
       "    </tr>\n",
       "  </thead>\n",
       "  <tbody>\n",
       "    <tr>\n",
       "      <th>0</th>\n",
       "      <td>MELBOURNE ENQUIRY: Seeking a variety of acts for our end of year show. Payment is $120 per slot or $200 for 2.... http://bit.ly/4Ah3fF</td>\n",
       "    </tr>\n",
       "    <tr>\n",
       "      <th>1</th>\n",
       "      <td>THE BURLESQUE BOOTCAMP SYDNEY - Open Date tickets now available from http://bbootcampsyd.eventbrite.com/ for Jan /... http://bit.ly/rCenZ</td>\n",
       "    </tr>\n",
       "    <tr>\n",
       "      <th>2</th>\n",
       "      <td>THE BURLESQUE BOOTCAMP SYDNEY - Open Date tickets now available from http://bbootcampsyd.eventbrite.com/ for Jan /... http://bit.ly/1v5hvb</td>\n",
       "    </tr>\n",
       "    <tr>\n",
       "      <th>3</th>\n",
       "      <td>THE BURLESQUE BOOTCAMP SYDNEY - Open Date tickets now available from http://bbootcampsyd.eventbrite.com/ for Jan /... http://fb.me/3rzipF0</td>\n",
       "    </tr>\n",
       "    <tr>\n",
       "      <th>4</th>\n",
       "      <td>Come to \"The Burlesque Bootcamp - Sydney\" Saturday, 23 January 2010 at 10:00 until &lt;br /&gt;Sunday, 24 January 2010 at... http://bit.ly/38simD</td>\n",
       "    </tr>\n",
       "  </tbody>\n",
       "</table>\n",
       "</div>"
      ],
      "text/plain": [
       "                                                                                                                                          Text\n",
       "0       MELBOURNE ENQUIRY: Seeking a variety of acts for our end of year show. Payment is $120 per slot or $200 for 2.... http://bit.ly/4Ah3fF\n",
       "1    THE BURLESQUE BOOTCAMP SYDNEY - Open Date tickets now available from http://bbootcampsyd.eventbrite.com/ for Jan /... http://bit.ly/rCenZ\n",
       "2   THE BURLESQUE BOOTCAMP SYDNEY - Open Date tickets now available from http://bbootcampsyd.eventbrite.com/ for Jan /... http://bit.ly/1v5hvb\n",
       "3   THE BURLESQUE BOOTCAMP SYDNEY - Open Date tickets now available from http://bbootcampsyd.eventbrite.com/ for Jan /... http://fb.me/3rzipF0\n",
       "4  Come to \"The Burlesque Bootcamp - Sydney\" Saturday, 23 January 2010 at 10:00 until <br />Sunday, 24 January 2010 at... http://bit.ly/38simD"
      ]
     },
     "execution_count": 12,
     "metadata": {},
     "output_type": "execute_result"
    }
   ],
   "source": [
    "tweets_spam = text_to_df(input_file2)\n",
    "tweets_spam.head()"
   ]
  },
  {
   "cell_type": "code",
   "execution_count": 13,
   "id": "049170d0",
   "metadata": {},
   "outputs": [
    {
     "data": {
      "text/html": [
       "<div>\n",
       "<style scoped>\n",
       "    .dataframe tbody tr th:only-of-type {\n",
       "        vertical-align: middle;\n",
       "    }\n",
       "\n",
       "    .dataframe tbody tr th {\n",
       "        vertical-align: top;\n",
       "    }\n",
       "\n",
       "    .dataframe thead th {\n",
       "        text-align: right;\n",
       "    }\n",
       "</style>\n",
       "<table border=\"1\" class=\"dataframe\">\n",
       "  <thead>\n",
       "    <tr style=\"text-align: right;\">\n",
       "      <th></th>\n",
       "      <th>Text</th>\n",
       "    </tr>\n",
       "  </thead>\n",
       "  <tbody>\n",
       "    <tr>\n",
       "      <th>count</th>\n",
       "      <td>1000000</td>\n",
       "    </tr>\n",
       "    <tr>\n",
       "      <th>unique</th>\n",
       "      <td>886342</td>\n",
       "    </tr>\n",
       "    <tr>\n",
       "      <th>top</th>\n",
       "      <td>Daily Fortune Cookie at TwittaCookie.com (http://TwittaCookie.com/index.php)</td>\n",
       "    </tr>\n",
       "    <tr>\n",
       "      <th>freq</th>\n",
       "      <td>129</td>\n",
       "    </tr>\n",
       "  </tbody>\n",
       "</table>\n",
       "</div>"
      ],
      "text/plain": [
       "                                                                                Text\n",
       "count                                                                        1000000\n",
       "unique                                                                        886342\n",
       "top     Daily Fortune Cookie at TwittaCookie.com (http://TwittaCookie.com/index.php)\n",
       "freq                                                                             129"
      ]
     },
     "execution_count": 13,
     "metadata": {},
     "output_type": "execute_result"
    }
   ],
   "source": [
    "tweets_spam.describe()"
   ]
  },
  {
   "cell_type": "code",
   "execution_count": 14,
   "id": "2469aecc",
   "metadata": {},
   "outputs": [],
   "source": [
    "def clean_data(trial_text):\n",
    "    for i in trial_text.index:\n",
    "        if(i%100000):\n",
    "            print(i)\n",
    "        trial_text.at[i,\"Text\"] = re.sub(r\"http\\S+\", \"url\", trial_text.at[i,\"Text\"])\n",
    "        trial_text.at[i,\"Text\"] = re.sub(r\"@\\S+\", \"usermention\", trial_text.at[i,\"Text\"])\n",
    "    trial_text.drop_duplicates(subset='Text', keep='first', inplace=True)\n",
    "    for i in trial_text.index:\n",
    "        trial_text.at[i,\"Text\"] = re.sub(r\"#\", \"\", trial_text.at[i,\"Text\"])\n",
    "        trial_text.at[i,\"Text\"] = re.sub(r\"\\bRT\\b\", \"retweet\", trial_text.at[i,\"Text\"])\n",
    "        trial_text.at[i,\"Text\"] = ' '.join(word for word in wordpunct_tokenize(trial_text.at[i,\"Text\"]) \n",
    "                                           if word.lower() not in stop_words)\n",
    "        trial_text.at[i,\"Text\"] = ' '.join(word.strip(string.punctuation) for word in trial_text.at[i,\"Text\"].split())\n",
    "        trial_text.at[i,\"Text\"] = wordpunct_tokenize(trial_text.at[i,\"Text\"].lower())\n",
    "        trial_text.at[i,\"Text\"] = ' '.join([wn.lemmatize(word, pos='v') for word in trial_text.at[i,\"Text\"]])\n",
    "        trial_text.at[i,\"Text\"] = ' '.join(word for word in word_tokenize(trial_text.at[i,\"Text\"]) if word in words)\n",
    "        trial_text.at[i,\"Text\"] = \" \".join(word for word in word_tokenize(trial_text.at[i,\"Text\"]) \n",
    "                                           if not (word.isalpha() and len(word)<3))\n",
    "    #Additional loop for processing glove dataset\n",
    "#      for i in trial_text.index:\n",
    "#          trial_text.at[i,\"Text\"] = re.sub(r\"\\burl\\b\", \"<url>\", trial_text.at[i,\"Text\"])\n",
    "#          trial_text.at[i,\"Text\"] = re.sub(r\"\\busermention\\b\", \"<user>\", trial_text.at[i,\"Text\"]) \n",
    "#          trial_text.at[i,\"Text\"] = re.sub(r\"\\bhashtag\\b\", \"<hashtag>\", trial_text.at[i,\"Text\"])\n",
    "#          trial_text.at[i,\"Text\"] = re.sub(r\"\\bretweet\\b\", \"rt\", trial_text.at[i,\"Text\"])\n",
    "    trial_text['num_words']=trial_text[\"Text\"].str.split().str.len()\n",
    "    trial_text = trial_text.drop(trial_text[trial_text.num_words < 2].index)\n",
    "    trial_text = trial_text.drop(['num_words'], axis=1)\n",
    "    return trial_text"
   ]
  },
  {
   "cell_type": "code",
   "execution_count": 15,
   "id": "2e704a68",
   "metadata": {},
   "outputs": [
    {
     "name": "stdout",
     "output_type": "stream",
     "text": [
      "Time Taken:  786.9377961158752\n"
     ]
    },
    {
     "data": {
      "text/html": [
       "<div>\n",
       "<style scoped>\n",
       "    .dataframe tbody tr th:only-of-type {\n",
       "        vertical-align: middle;\n",
       "    }\n",
       "\n",
       "    .dataframe tbody tr th {\n",
       "        vertical-align: top;\n",
       "    }\n",
       "\n",
       "    .dataframe thead th {\n",
       "        text-align: right;\n",
       "    }\n",
       "</style>\n",
       "<table border=\"1\" class=\"dataframe\">\n",
       "  <thead>\n",
       "    <tr style=\"text-align: right;\">\n",
       "      <th></th>\n",
       "      <th>Text</th>\n",
       "    </tr>\n",
       "  </thead>\n",
       "  <tbody>\n",
       "    <tr>\n",
       "      <th>4</th>\n",
       "      <td>usermention url</td>\n",
       "    </tr>\n",
       "    <tr>\n",
       "      <th>61</th>\n",
       "      <td>url usermention</td>\n",
       "    </tr>\n",
       "    <tr>\n",
       "      <th>175</th>\n",
       "      <td>url usermention</td>\n",
       "    </tr>\n",
       "    <tr>\n",
       "      <th>187</th>\n",
       "      <td>usermention usermention</td>\n",
       "    </tr>\n",
       "    <tr>\n",
       "      <th>194</th>\n",
       "      <td>usermention usermention</td>\n",
       "    </tr>\n",
       "  </tbody>\n",
       "</table>\n",
       "</div>"
      ],
      "text/plain": [
       "                        Text\n",
       "4            usermention url\n",
       "61           url usermention\n",
       "175          url usermention\n",
       "187  usermention usermention\n",
       "194  usermention usermention"
      ]
     },
     "execution_count": 15,
     "metadata": {},
     "output_type": "execute_result"
    }
   ],
   "source": [
    "start2 = time.time()\n",
    "clean_ham_df = clean_data(tweets_ham)\n",
    "end2 = time.time()\n",
    "print(\"Time Taken: \", end2-start2)\n",
    "clean_ham_df.head()"
   ]
  },
  {
   "cell_type": "code",
   "execution_count": 16,
   "id": "4407fd34",
   "metadata": {},
   "outputs": [
    {
     "data": {
      "text/plain": [
       "Text    0\n",
       "dtype: int64"
      ]
     },
     "execution_count": 16,
     "metadata": {},
     "output_type": "execute_result"
    }
   ],
   "source": [
    "clean_ham_df.isnull().sum()"
   ]
  },
  {
   "cell_type": "code",
   "execution_count": 17,
   "id": "8d5a8973",
   "metadata": {},
   "outputs": [
    {
     "data": {
      "text/html": [
       "<div>\n",
       "<style scoped>\n",
       "    .dataframe tbody tr th:only-of-type {\n",
       "        vertical-align: middle;\n",
       "    }\n",
       "\n",
       "    .dataframe tbody tr th {\n",
       "        vertical-align: top;\n",
       "    }\n",
       "\n",
       "    .dataframe thead th {\n",
       "        text-align: right;\n",
       "    }\n",
       "</style>\n",
       "<table border=\"1\" class=\"dataframe\">\n",
       "  <thead>\n",
       "    <tr style=\"text-align: right;\">\n",
       "      <th></th>\n",
       "      <th>Text</th>\n",
       "    </tr>\n",
       "  </thead>\n",
       "  <tbody>\n",
       "    <tr>\n",
       "      <th>count</th>\n",
       "      <td>131442</td>\n",
       "    </tr>\n",
       "    <tr>\n",
       "      <th>unique</th>\n",
       "      <td>788</td>\n",
       "    </tr>\n",
       "    <tr>\n",
       "      <th>top</th>\n",
       "      <td>retweet usermention</td>\n",
       "    </tr>\n",
       "    <tr>\n",
       "      <th>freq</th>\n",
       "      <td>25537</td>\n",
       "    </tr>\n",
       "  </tbody>\n",
       "</table>\n",
       "</div>"
      ],
      "text/plain": [
       "                       Text\n",
       "count                131442\n",
       "unique                  788\n",
       "top     retweet usermention\n",
       "freq                  25537"
      ]
     },
     "execution_count": 17,
     "metadata": {},
     "output_type": "execute_result"
    }
   ],
   "source": [
    "clean_ham_df.describe()"
   ]
  },
  {
   "cell_type": "code",
   "execution_count": 18,
   "id": "f138ed93",
   "metadata": {},
   "outputs": [
    {
     "data": {
      "text/html": [
       "<div>\n",
       "<style scoped>\n",
       "    .dataframe tbody tr th:only-of-type {\n",
       "        vertical-align: middle;\n",
       "    }\n",
       "\n",
       "    .dataframe tbody tr th {\n",
       "        vertical-align: top;\n",
       "    }\n",
       "\n",
       "    .dataframe thead th {\n",
       "        text-align: right;\n",
       "    }\n",
       "</style>\n",
       "<table border=\"1\" class=\"dataframe\">\n",
       "  <thead>\n",
       "    <tr style=\"text-align: right;\">\n",
       "      <th></th>\n",
       "      <th>Text</th>\n",
       "    </tr>\n",
       "  </thead>\n",
       "  <tbody>\n",
       "    <tr>\n",
       "      <th>1</th>\n",
       "      <td>url url</td>\n",
       "    </tr>\n",
       "    <tr>\n",
       "      <th>7</th>\n",
       "      <td>url url</td>\n",
       "    </tr>\n",
       "    <tr>\n",
       "      <th>15</th>\n",
       "      <td>url url</td>\n",
       "    </tr>\n",
       "    <tr>\n",
       "      <th>16</th>\n",
       "      <td>url url</td>\n",
       "    </tr>\n",
       "    <tr>\n",
       "      <th>22</th>\n",
       "      <td>url url</td>\n",
       "    </tr>\n",
       "  </tbody>\n",
       "</table>\n",
       "</div>"
      ],
      "text/plain": [
       "       Text\n",
       "1   url url\n",
       "7   url url\n",
       "15  url url\n",
       "16  url url\n",
       "22  url url"
      ]
     },
     "execution_count": 18,
     "metadata": {},
     "output_type": "execute_result"
    }
   ],
   "source": [
    "clean_spam_df = clean_data(tweets_spam)\n",
    "clean_spam_df.head()"
   ]
  },
  {
   "cell_type": "code",
   "execution_count": 19,
   "id": "3aa00a88",
   "metadata": {},
   "outputs": [
    {
     "data": {
      "text/plain": [
       "Text    0\n",
       "dtype: int64"
      ]
     },
     "execution_count": 19,
     "metadata": {},
     "output_type": "execute_result"
    }
   ],
   "source": [
    "clean_spam_df.isnull().sum()"
   ]
  },
  {
   "cell_type": "code",
   "execution_count": 20,
   "id": "1cf25f76",
   "metadata": {},
   "outputs": [
    {
     "data": {
      "text/html": [
       "<div>\n",
       "<style scoped>\n",
       "    .dataframe tbody tr th:only-of-type {\n",
       "        vertical-align: middle;\n",
       "    }\n",
       "\n",
       "    .dataframe tbody tr th {\n",
       "        vertical-align: top;\n",
       "    }\n",
       "\n",
       "    .dataframe thead th {\n",
       "        text-align: right;\n",
       "    }\n",
       "</style>\n",
       "<table border=\"1\" class=\"dataframe\">\n",
       "  <thead>\n",
       "    <tr style=\"text-align: right;\">\n",
       "      <th></th>\n",
       "      <th>Text</th>\n",
       "    </tr>\n",
       "  </thead>\n",
       "  <tbody>\n",
       "    <tr>\n",
       "      <th>count</th>\n",
       "      <td>103512</td>\n",
       "    </tr>\n",
       "    <tr>\n",
       "      <th>unique</th>\n",
       "      <td>689</td>\n",
       "    </tr>\n",
       "    <tr>\n",
       "      <th>top</th>\n",
       "      <td>retweet usermention url</td>\n",
       "    </tr>\n",
       "    <tr>\n",
       "      <th>freq</th>\n",
       "      <td>19669</td>\n",
       "    </tr>\n",
       "  </tbody>\n",
       "</table>\n",
       "</div>"
      ],
      "text/plain": [
       "                           Text\n",
       "count                    103512\n",
       "unique                      689\n",
       "top     retweet usermention url\n",
       "freq                      19669"
      ]
     },
     "execution_count": 20,
     "metadata": {},
     "output_type": "execute_result"
    }
   ],
   "source": [
    "clean_spam_df.describe()"
   ]
  },
  {
   "cell_type": "code",
   "execution_count": 21,
   "id": "1599833e",
   "metadata": {},
   "outputs": [
    {
     "name": "stdout",
     "output_type": "stream",
     "text": [
      "25\n",
      "20\n",
      "17\n",
      "86488\n",
      "['retweet', 'usermention', 'retweet', 'retweet', 'retweet', 'retweet', 'retweet', 'usermention', 'retweet', 'retweet', 'retweet', 'retweet', 'usermention', 'retweet', 'usermention', 'retweet', 'usermention', 'retweet', 'usermention', 'retweet', 'retweet', 'retweet', 'retweet', 'retweet', 'retweet']\n",
      "['retweet', 'usermention', 'retweet', 'usermention', 'retweet', 'usermention', 'retweet', 'usermention', 'retweet', 'usermention', 'retweet', 'usermention', 'retweet', 'usermention', 'retweet', 'usermention', 'retweet', 'usermention', 'retweet', 'usermention']\n"
     ]
    }
   ],
   "source": [
    "# Check length of longest tweet\n",
    "x = clean_ham_df[\"Text\"].str.split(\" \")\n",
    "max_len1 = 0\n",
    "max_len2 = 0\n",
    "max_len3 = 0\n",
    "max_row1 = 0\n",
    "count = 0\n",
    "index = 0\n",
    "\n",
    "for i in x:\n",
    "    if len(i)>max_len1:\n",
    "        max_len3 = max_len2\n",
    "        max_len2 = max_len1\n",
    "        max_len1 = len(i)\n",
    "        max_row2 = max_row1\n",
    "        max_row1 = i\n",
    "        index = count\n",
    "    count = count+1\n",
    "        \n",
    "print(max_len1)\n",
    "print(max_len2)\n",
    "print(max_len3)\n",
    "print(index)\n",
    "print(max_row1)\n",
    "print(max_row2)"
   ]
  },
  {
   "cell_type": "code",
   "execution_count": 22,
   "id": "5aed5860",
   "metadata": {},
   "outputs": [
    {
     "name": "stdout",
     "output_type": "stream",
     "text": [
      "number of length 2 tweets: 0\n"
     ]
    }
   ],
   "source": [
    "num = 0\n",
    "for i in x:\n",
    "    if len(i)==21:\n",
    "        print(i)\n",
    "        num+=1\n",
    "print(\"number of length {} tweets: {}\".format(len(i),num))"
   ]
  },
  {
   "cell_type": "code",
   "execution_count": 23,
   "id": "32a104cb",
   "metadata": {},
   "outputs": [
    {
     "data": {
      "text/html": [
       "<div>\n",
       "<style scoped>\n",
       "    .dataframe tbody tr th:only-of-type {\n",
       "        vertical-align: middle;\n",
       "    }\n",
       "\n",
       "    .dataframe tbody tr th {\n",
       "        vertical-align: top;\n",
       "    }\n",
       "\n",
       "    .dataframe thead th {\n",
       "        text-align: right;\n",
       "    }\n",
       "</style>\n",
       "<table border=\"1\" class=\"dataframe\">\n",
       "  <thead>\n",
       "    <tr style=\"text-align: right;\">\n",
       "      <th></th>\n",
       "      <th>Text</th>\n",
       "      <th>Label</th>\n",
       "    </tr>\n",
       "  </thead>\n",
       "  <tbody>\n",
       "    <tr>\n",
       "      <th>count</th>\n",
       "      <td>131442</td>\n",
       "      <td>131442</td>\n",
       "    </tr>\n",
       "    <tr>\n",
       "      <th>unique</th>\n",
       "      <td>788</td>\n",
       "      <td>1</td>\n",
       "    </tr>\n",
       "    <tr>\n",
       "      <th>top</th>\n",
       "      <td>retweet usermention</td>\n",
       "      <td>Ham</td>\n",
       "    </tr>\n",
       "    <tr>\n",
       "      <th>freq</th>\n",
       "      <td>25537</td>\n",
       "      <td>131442</td>\n",
       "    </tr>\n",
       "  </tbody>\n",
       "</table>\n",
       "</div>"
      ],
      "text/plain": [
       "                       Text   Label\n",
       "count                131442  131442\n",
       "unique                  788       1\n",
       "top     retweet usermention     Ham\n",
       "freq                  25537  131442"
      ]
     },
     "execution_count": 23,
     "metadata": {},
     "output_type": "execute_result"
    }
   ],
   "source": [
    "clean_ham_df['Label'] = 'Ham'\n",
    "clean_ham_df.describe()"
   ]
  },
  {
   "cell_type": "code",
   "execution_count": 24,
   "id": "bfb4b4f9",
   "metadata": {},
   "outputs": [
    {
     "data": {
      "text/html": [
       "<div>\n",
       "<style scoped>\n",
       "    .dataframe tbody tr th:only-of-type {\n",
       "        vertical-align: middle;\n",
       "    }\n",
       "\n",
       "    .dataframe tbody tr th {\n",
       "        vertical-align: top;\n",
       "    }\n",
       "\n",
       "    .dataframe thead th {\n",
       "        text-align: right;\n",
       "    }\n",
       "</style>\n",
       "<table border=\"1\" class=\"dataframe\">\n",
       "  <thead>\n",
       "    <tr style=\"text-align: right;\">\n",
       "      <th></th>\n",
       "      <th>Text</th>\n",
       "      <th>Label</th>\n",
       "    </tr>\n",
       "  </thead>\n",
       "  <tbody>\n",
       "    <tr>\n",
       "      <th>count</th>\n",
       "      <td>103512</td>\n",
       "      <td>103512</td>\n",
       "    </tr>\n",
       "    <tr>\n",
       "      <th>unique</th>\n",
       "      <td>689</td>\n",
       "      <td>1</td>\n",
       "    </tr>\n",
       "    <tr>\n",
       "      <th>top</th>\n",
       "      <td>retweet usermention url</td>\n",
       "      <td>Spam</td>\n",
       "    </tr>\n",
       "    <tr>\n",
       "      <th>freq</th>\n",
       "      <td>19669</td>\n",
       "      <td>103512</td>\n",
       "    </tr>\n",
       "  </tbody>\n",
       "</table>\n",
       "</div>"
      ],
      "text/plain": [
       "                           Text   Label\n",
       "count                    103512  103512\n",
       "unique                      689       1\n",
       "top     retweet usermention url    Spam\n",
       "freq                      19669  103512"
      ]
     },
     "execution_count": 24,
     "metadata": {},
     "output_type": "execute_result"
    }
   ],
   "source": [
    "clean_spam_df['Label'] = 'Spam'\n",
    "clean_spam_df.describe()"
   ]
  },
  {
   "cell_type": "code",
   "execution_count": 25,
   "id": "a4d89604",
   "metadata": {},
   "outputs": [
    {
     "data": {
      "text/html": [
       "<div>\n",
       "<style scoped>\n",
       "    .dataframe tbody tr th:only-of-type {\n",
       "        vertical-align: middle;\n",
       "    }\n",
       "\n",
       "    .dataframe tbody tr th {\n",
       "        vertical-align: top;\n",
       "    }\n",
       "\n",
       "    .dataframe thead th {\n",
       "        text-align: right;\n",
       "    }\n",
       "</style>\n",
       "<table border=\"1\" class=\"dataframe\">\n",
       "  <thead>\n",
       "    <tr style=\"text-align: right;\">\n",
       "      <th></th>\n",
       "      <th>Text</th>\n",
       "      <th>Label</th>\n",
       "    </tr>\n",
       "  </thead>\n",
       "  <tbody>\n",
       "    <tr>\n",
       "      <th>count</th>\n",
       "      <td>234954</td>\n",
       "      <td>234954</td>\n",
       "    </tr>\n",
       "    <tr>\n",
       "      <th>unique</th>\n",
       "      <td>1049</td>\n",
       "      <td>2</td>\n",
       "    </tr>\n",
       "    <tr>\n",
       "      <th>top</th>\n",
       "      <td>retweet usermention url</td>\n",
       "      <td>Ham</td>\n",
       "    </tr>\n",
       "    <tr>\n",
       "      <th>freq</th>\n",
       "      <td>41139</td>\n",
       "      <td>131442</td>\n",
       "    </tr>\n",
       "  </tbody>\n",
       "</table>\n",
       "</div>"
      ],
      "text/plain": [
       "                           Text   Label\n",
       "count                    234954  234954\n",
       "unique                     1049       2\n",
       "top     retweet usermention url     Ham\n",
       "freq                      41139  131442"
      ]
     },
     "execution_count": 25,
     "metadata": {},
     "output_type": "execute_result"
    }
   ],
   "source": [
    "tweets_text = clean_ham_df.append(clean_spam_df, ignore_index=True)\n",
    "tweets_text.describe()"
   ]
  },
  {
   "cell_type": "code",
   "execution_count": 26,
   "id": "88667f2a",
   "metadata": {},
   "outputs": [
    {
     "name": "stdout",
     "output_type": "stream",
     "text": [
      "Out of 234954 rows, 103512 are spams, 131442 are non-spams\n"
     ]
    }
   ],
   "source": [
    "#Summary of Tweet Text dataset\n",
    "print(\"Out of {} rows, {} are spams, {} are non-spams\".format(len(tweets_text),\n",
    "                                                              len(tweets_text[tweets_text['Label']=='Spam']),\n",
    "                                                              len(tweets_text[tweets_text['Label']=='Ham'])))"
   ]
  },
  {
   "cell_type": "code",
   "execution_count": 27,
   "id": "f953f6e8",
   "metadata": {},
   "outputs": [
    {
     "data": {
      "text/plain": [
       "Text     0\n",
       "Label    0\n",
       "dtype: int64"
      ]
     },
     "execution_count": 27,
     "metadata": {},
     "output_type": "execute_result"
    }
   ],
   "source": [
    "tweets_text.isnull().sum()"
   ]
  },
  {
   "cell_type": "code",
   "execution_count": 28,
   "id": "b2bb8d44",
   "metadata": {},
   "outputs": [],
   "source": [
    "#export cleaned Tweet Text dataset\n",
    "tweets_text.to_csv('dataset_280423_1l.txt', sep='\\t', index=False, header=False)"
   ]
  },
  {
   "cell_type": "code",
   "execution_count": null,
   "id": "9f0050b6",
   "metadata": {},
   "outputs": [],
   "source": []
  }
 ],
 "metadata": {
  "kernelspec": {
   "display_name": "Python 3 (ipykernel)",
   "language": "python",
   "name": "python3"
  },
  "language_info": {
   "codemirror_mode": {
    "name": "ipython",
    "version": 3
   },
   "file_extension": ".py",
   "mimetype": "text/x-python",
   "name": "python",
   "nbconvert_exporter": "python",
   "pygments_lexer": "ipython3",
   "version": "3.7.9"
  }
 },
 "nbformat": 4,
 "nbformat_minor": 5
}
